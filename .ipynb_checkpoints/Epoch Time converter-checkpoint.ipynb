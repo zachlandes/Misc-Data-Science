{
 "cells": [
  {
   "cell_type": "code",
   "execution_count": 1,
   "metadata": {
    "collapsed": false
   },
   "outputs": [
    {
     "name": "stdout",
     "output_type": "stream",
     "text": [
      "time.struct_time(tm_year=2016, tm_mon=5, tm_mday=2, tm_hour=16, tm_min=40, tm_sec=40, tm_wday=0, tm_yday=123, tm_isdst=0)\n"
     ]
    }
   ],
   "source": [
    "import time \n",
    "\n",
    "rdate = 'Mon May 2 16:40:40 2016 UTC'\n",
    "\n",
    "pattern = \"%a %B %d %H:%M:%S %Y %Z\"\n",
    "\n",
    "print time.strptime(rdate, pattern)\n",
    "\n",
    "def epoch_conv(rdate):\n",
    "    epoch = int(time.mktime(time.strptime(rdate, pattern))) #mktime takes a time in LOCAL TIME\n",
    "    return epoch\n"
   ]
  },
  {
   "cell_type": "code",
   "execution_count": 2,
   "metadata": {
    "collapsed": false
   },
   "outputs": [
    {
     "name": "stdout",
     "output_type": "stream",
     "text": [
      "2016-07-27 04:09:06.553303\n"
     ]
    }
   ],
   "source": [
    "import datetime\n",
    "a = datetime.datetime.utcnow()\n",
    "print a"
   ]
  },
  {
   "cell_type": "code",
   "execution_count": 3,
   "metadata": {
    "collapsed": false
   },
   "outputs": [
    {
     "name": "stdout",
     "output_type": "stream",
     "text": [
      "2016-07-20 04:09:06.553303\n"
     ]
    }
   ],
   "source": [
    "a = a - datetime.timedelta(weeks=1)\n",
    "print a"
   ]
  },
  {
   "cell_type": "code",
   "execution_count": 9,
   "metadata": {
    "collapsed": true
   },
   "outputs": [],
   "source": [
    "import datetime\n",
    "import calendar\n",
    "\n",
    "def epoch_conv2(rdate):                             #converts utc timestamps to unix epoch \n",
    "    epoch = calendar.timegm(rdate.timetuple())\n",
    "    return epoch\n",
    "\n",
    "def url_frmt(start_date, end_date):\n",
    "    url = 'https://www.reddit.com/r/analog/search?sort=new&q=timestamp%3A'+'{}'.format(str(end_date))+'..'+'{}'.format(str(start_date))+'&restrict_sr=on&syntax=cloudsearch' \n",
    "    return url\n",
    "def rule_frmt(start_date, end_date):\n",
    "    r1 = '/r/analog/search\\?sort=new&q=timestamp%3A'+'{}'.format(str(end_date))+'..'+'{}'.format(str(start_date))+'&restrict_sr=on&syntax=cloudsearch&count=\\d*&after=\\w*'\n",
    "    r2 = '/r/analog/search\\?q=timestamp%3A'+'{}'.format(str(end_date))+'..'+'{}'.format(str(start_date))+'&restrict_sr=on&sort=new&syntax=cloudsearch&count=\\d*&after=\\w*'\n",
    "    r3 = '/r/analog/search\\?after=\\w*&count=\\d*&q=timestamp%3A'+'{}'.format(str(end_date))+'..'+'{}'.format(str(start_date))+'&restrict_sr=on&sort=new&syntax=cloudsearch'\n",
    "    return [r1, r2, r3]\n",
    "\n",
    "def start_url_gen(sdate = datetime.datetime.utcnow() - datetime.timedelta(weeks=2), num_weeks = 51):\n",
    "    sdate = sdate\n",
    "    num_weeks = num_weeks\n",
    "    end_date = sdate - datetime.timedelta(weeks=1)\n",
    "    start_urls = [url_frmt(epoch_conv2(sdate), epoch_conv2(end_date))]\n",
    "    rule_urls = rule_frmt(epoch_conv2(sdate), epoch_conv2(end_date))\n",
    "    results = []\n",
    "    while num_weeks:                                 #this ticks down to 0 and exits because 0 is False\n",
    "        sdate = sdate - datetime.timedelta(weeks=1)  #subtract a week from the last stored datetime value\n",
    "        end_date = end_date - datetime.timedelta(weeks=1)\n",
    "        start_urls.append(url_frmt(epoch_conv2(sdate), epoch_conv2(end_date)))        #add the new value to our list of urls\n",
    "        rule_urls.extend(rule_frmt(epoch_conv2(sdate), epoch_conv2(end_date)))\n",
    "        num_weeks -= 1                               #subtract one from number of weeks left to iterate through\n",
    "    results = [start_urls, rule_urls]\n",
    "    return results"
   ]
  },
  {
   "cell_type": "code",
   "execution_count": 10,
   "metadata": {
    "collapsed": false
   },
   "outputs": [
    {
     "data": {
      "text/plain": [
       "['https://www.reddit.com/r/analog/search?sort=new&q=timestamp%3A1468386329..1467781529&restrict_sr=on&syntax=cloudsearch',\n",
       " 'https://www.reddit.com/r/analog/search?sort=new&q=timestamp%3A1467781529..1467176729&restrict_sr=on&syntax=cloudsearch',\n",
       " 'https://www.reddit.com/r/analog/search?sort=new&q=timestamp%3A1467176729..1466571929&restrict_sr=on&syntax=cloudsearch',\n",
       " 'https://www.reddit.com/r/analog/search?sort=new&q=timestamp%3A1466571929..1465967129&restrict_sr=on&syntax=cloudsearch',\n",
       " 'https://www.reddit.com/r/analog/search?sort=new&q=timestamp%3A1465967129..1465362329&restrict_sr=on&syntax=cloudsearch',\n",
       " 'https://www.reddit.com/r/analog/search?sort=new&q=timestamp%3A1465362329..1464757529&restrict_sr=on&syntax=cloudsearch',\n",
       " 'https://www.reddit.com/r/analog/search?sort=new&q=timestamp%3A1464757529..1464152729&restrict_sr=on&syntax=cloudsearch',\n",
       " 'https://www.reddit.com/r/analog/search?sort=new&q=timestamp%3A1464152729..1463547929&restrict_sr=on&syntax=cloudsearch',\n",
       " 'https://www.reddit.com/r/analog/search?sort=new&q=timestamp%3A1463547929..1462943129&restrict_sr=on&syntax=cloudsearch',\n",
       " 'https://www.reddit.com/r/analog/search?sort=new&q=timestamp%3A1462943129..1462338329&restrict_sr=on&syntax=cloudsearch',\n",
       " 'https://www.reddit.com/r/analog/search?sort=new&q=timestamp%3A1462338329..1461733529&restrict_sr=on&syntax=cloudsearch',\n",
       " 'https://www.reddit.com/r/analog/search?sort=new&q=timestamp%3A1461733529..1461128729&restrict_sr=on&syntax=cloudsearch',\n",
       " 'https://www.reddit.com/r/analog/search?sort=new&q=timestamp%3A1461128729..1460523929&restrict_sr=on&syntax=cloudsearch',\n",
       " 'https://www.reddit.com/r/analog/search?sort=new&q=timestamp%3A1460523929..1459919129&restrict_sr=on&syntax=cloudsearch',\n",
       " 'https://www.reddit.com/r/analog/search?sort=new&q=timestamp%3A1459919129..1459314329&restrict_sr=on&syntax=cloudsearch',\n",
       " 'https://www.reddit.com/r/analog/search?sort=new&q=timestamp%3A1459314329..1458709529&restrict_sr=on&syntax=cloudsearch',\n",
       " 'https://www.reddit.com/r/analog/search?sort=new&q=timestamp%3A1458709529..1458104729&restrict_sr=on&syntax=cloudsearch',\n",
       " 'https://www.reddit.com/r/analog/search?sort=new&q=timestamp%3A1458104729..1457499929&restrict_sr=on&syntax=cloudsearch',\n",
       " 'https://www.reddit.com/r/analog/search?sort=new&q=timestamp%3A1457499929..1456895129&restrict_sr=on&syntax=cloudsearch',\n",
       " 'https://www.reddit.com/r/analog/search?sort=new&q=timestamp%3A1456895129..1456290329&restrict_sr=on&syntax=cloudsearch',\n",
       " 'https://www.reddit.com/r/analog/search?sort=new&q=timestamp%3A1456290329..1455685529&restrict_sr=on&syntax=cloudsearch',\n",
       " 'https://www.reddit.com/r/analog/search?sort=new&q=timestamp%3A1455685529..1455080729&restrict_sr=on&syntax=cloudsearch',\n",
       " 'https://www.reddit.com/r/analog/search?sort=new&q=timestamp%3A1455080729..1454475929&restrict_sr=on&syntax=cloudsearch',\n",
       " 'https://www.reddit.com/r/analog/search?sort=new&q=timestamp%3A1454475929..1453871129&restrict_sr=on&syntax=cloudsearch',\n",
       " 'https://www.reddit.com/r/analog/search?sort=new&q=timestamp%3A1453871129..1453266329&restrict_sr=on&syntax=cloudsearch',\n",
       " 'https://www.reddit.com/r/analog/search?sort=new&q=timestamp%3A1453266329..1452661529&restrict_sr=on&syntax=cloudsearch',\n",
       " 'https://www.reddit.com/r/analog/search?sort=new&q=timestamp%3A1452661529..1452056729&restrict_sr=on&syntax=cloudsearch',\n",
       " 'https://www.reddit.com/r/analog/search?sort=new&q=timestamp%3A1452056729..1451451929&restrict_sr=on&syntax=cloudsearch',\n",
       " 'https://www.reddit.com/r/analog/search?sort=new&q=timestamp%3A1451451929..1450847129&restrict_sr=on&syntax=cloudsearch',\n",
       " 'https://www.reddit.com/r/analog/search?sort=new&q=timestamp%3A1450847129..1450242329&restrict_sr=on&syntax=cloudsearch',\n",
       " 'https://www.reddit.com/r/analog/search?sort=new&q=timestamp%3A1450242329..1449637529&restrict_sr=on&syntax=cloudsearch',\n",
       " 'https://www.reddit.com/r/analog/search?sort=new&q=timestamp%3A1449637529..1449032729&restrict_sr=on&syntax=cloudsearch',\n",
       " 'https://www.reddit.com/r/analog/search?sort=new&q=timestamp%3A1449032729..1448427929&restrict_sr=on&syntax=cloudsearch',\n",
       " 'https://www.reddit.com/r/analog/search?sort=new&q=timestamp%3A1448427929..1447823129&restrict_sr=on&syntax=cloudsearch',\n",
       " 'https://www.reddit.com/r/analog/search?sort=new&q=timestamp%3A1447823129..1447218329&restrict_sr=on&syntax=cloudsearch',\n",
       " 'https://www.reddit.com/r/analog/search?sort=new&q=timestamp%3A1447218329..1446613529&restrict_sr=on&syntax=cloudsearch',\n",
       " 'https://www.reddit.com/r/analog/search?sort=new&q=timestamp%3A1446613529..1446008729&restrict_sr=on&syntax=cloudsearch',\n",
       " 'https://www.reddit.com/r/analog/search?sort=new&q=timestamp%3A1446008729..1445403929&restrict_sr=on&syntax=cloudsearch',\n",
       " 'https://www.reddit.com/r/analog/search?sort=new&q=timestamp%3A1445403929..1444799129&restrict_sr=on&syntax=cloudsearch',\n",
       " 'https://www.reddit.com/r/analog/search?sort=new&q=timestamp%3A1444799129..1444194329&restrict_sr=on&syntax=cloudsearch',\n",
       " 'https://www.reddit.com/r/analog/search?sort=new&q=timestamp%3A1444194329..1443589529&restrict_sr=on&syntax=cloudsearch',\n",
       " 'https://www.reddit.com/r/analog/search?sort=new&q=timestamp%3A1443589529..1442984729&restrict_sr=on&syntax=cloudsearch',\n",
       " 'https://www.reddit.com/r/analog/search?sort=new&q=timestamp%3A1442984729..1442379929&restrict_sr=on&syntax=cloudsearch',\n",
       " 'https://www.reddit.com/r/analog/search?sort=new&q=timestamp%3A1442379929..1441775129&restrict_sr=on&syntax=cloudsearch',\n",
       " 'https://www.reddit.com/r/analog/search?sort=new&q=timestamp%3A1441775129..1441170329&restrict_sr=on&syntax=cloudsearch',\n",
       " 'https://www.reddit.com/r/analog/search?sort=new&q=timestamp%3A1441170329..1440565529&restrict_sr=on&syntax=cloudsearch',\n",
       " 'https://www.reddit.com/r/analog/search?sort=new&q=timestamp%3A1440565529..1439960729&restrict_sr=on&syntax=cloudsearch',\n",
       " 'https://www.reddit.com/r/analog/search?sort=new&q=timestamp%3A1439960729..1439355929&restrict_sr=on&syntax=cloudsearch',\n",
       " 'https://www.reddit.com/r/analog/search?sort=new&q=timestamp%3A1439355929..1438751129&restrict_sr=on&syntax=cloudsearch',\n",
       " 'https://www.reddit.com/r/analog/search?sort=new&q=timestamp%3A1438751129..1438146329&restrict_sr=on&syntax=cloudsearch',\n",
       " 'https://www.reddit.com/r/analog/search?sort=new&q=timestamp%3A1438146329..1437541529&restrict_sr=on&syntax=cloudsearch',\n",
       " 'https://www.reddit.com/r/analog/search?sort=new&q=timestamp%3A1437541529..1436936729&restrict_sr=on&syntax=cloudsearch']"
      ]
     },
     "execution_count": 10,
     "metadata": {},
     "output_type": "execute_result"
    }
   ],
   "source": [
    "start_url_gen()[0]"
   ]
  },
  {
   "cell_type": "code",
   "execution_count": null,
   "metadata": {
    "collapsed": true
   },
   "outputs": [],
   "source": [
    "a = 1437539399"
   ]
  }
 ],
 "metadata": {
  "kernelspec": {
   "display_name": "Python 2",
   "language": "python",
   "name": "python2"
  },
  "language_info": {
   "codemirror_mode": {
    "name": "ipython",
    "version": 2
   },
   "file_extension": ".py",
   "mimetype": "text/x-python",
   "name": "python",
   "nbconvert_exporter": "python",
   "pygments_lexer": "ipython2",
   "version": "2.7.11"
  }
 },
 "nbformat": 4,
 "nbformat_minor": 0
}
