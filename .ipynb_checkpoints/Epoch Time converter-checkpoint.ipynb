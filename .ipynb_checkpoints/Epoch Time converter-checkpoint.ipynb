{
 "cells": [
  {
   "cell_type": "code",
   "execution_count": 1,
   "metadata": {
    "collapsed": false
   },
   "outputs": [
    {
     "name": "stdout",
     "output_type": "stream",
     "text": [
      "time.struct_time(tm_year=2016, tm_mon=5, tm_mday=2, tm_hour=16, tm_min=40, tm_sec=40, tm_wday=0, tm_yday=123, tm_isdst=0)\n"
     ]
    }
   ],
   "source": [
    "import time \n",
    "\n",
    "rdate = 'Mon May 2 16:40:40 2016 UTC'\n",
    "\n",
    "pattern = \"%a %B %d %H:%M:%S %Y %Z\"\n",
    "\n",
    "print time.strptime(rdate, pattern)\n",
    "\n",
    "def epoch_conv(rdate):\n",
    "    epoch = int(time.mktime(time.strptime(rdate, pattern))) #mktime takes a time in LOCAL TIME\n",
    "    return epoch\n"
   ]
  },
  {
   "cell_type": "code",
   "execution_count": 2,
   "metadata": {
    "collapsed": false
   },
   "outputs": [
    {
     "name": "stdout",
     "output_type": "stream",
     "text": [
      "2016-07-27 04:09:06.553303\n"
     ]
    }
   ],
   "source": [
    "import datetime\n",
    "a = datetime.datetime.utcnow()\n",
    "print a"
   ]
  },
  {
   "cell_type": "code",
   "execution_count": 3,
   "metadata": {
    "collapsed": false
   },
   "outputs": [
    {
     "name": "stdout",
     "output_type": "stream",
     "text": [
      "2016-07-20 04:09:06.553303\n"
     ]
    }
   ],
   "source": [
    "a = a - datetime.timedelta(weeks=1)\n",
    "print a"
   ]
  },
  {
   "cell_type": "code",
   "execution_count": 1,
   "metadata": {
    "collapsed": false
   },
   "outputs": [
    {
     "name": "stdout",
     "output_type": "stream",
     "text": [
      "hi you jerk\n"
     ]
    }
   ],
   "source": [
    "import datetime\n",
    "import calendar\n",
    "\n",
    "def epoch_conv2(rdate):                             #converts utc timestamps to unix epoch \n",
    "    epoch = calendar.timegm(rdate.timetuple())\n",
    "    return epoch\n",
    "\n",
    "def url_frmt(start_date, end_date):\n",
    "    url = 'https://www.reddit.com/r/analog/search?sort=new&q=timestamp%3A'+'{}'.format(str(end_date))+'..'+'{}'.format(str(start_date))+'&restrict_sr=on&syntax=cloudsearch' \n",
    "    return url\n",
    "def rule_frmt(start_date, end_date):\n",
    "    r1 = '/r/analog/search\\?sort=new&q=timestamp%3A'+'{}'.format(str(end_date))+'..'+'{}'.format(str(start_date))+'&restrict_sr=on&syntax=cloudsearch&count=\\d*&after=\\w*'\n",
    "    r2 = '/r/analog/search\\?q=timestamp%3A'+'{}'.format(str(end_date))+'..'+'{}'.format(str(start_date))+'&restrict_sr=on&sort=new&syntax=cloudsearch&count=\\d*&after=\\w*'\n",
    "    r3 = '/r/analog/search\\?after=\\w*&count=\\d*&q=timestamp%3A'+'{}'.format(str(end_date))+'..'+'{}'.format(str(start_date))+'&restrict_sr=on&sort=new&syntax=cloudsearch'\n",
    "    return [r1, r2, r3]\n",
    "\n",
    "def start_url_gen(sdate = datetime.datetime.utcnow() - datetime.timedelta(weeks=2), num_weeks = 51):\n",
    "    sdate = sdate\n",
    "    num_weeks = num_weeks\n",
    "    end_date = sdate - datetime.timedelta(weeks=1)\n",
    "    start_urls = [url_frmt(epoch_conv2(sdate), epoch_conv2(end_date))]\n",
    "    rule_urls = rule_frmt(epoch_conv2(sdate), epoch_conv2(end_date))\n",
    "    results = []\n",
    "    while num_weeks:                                 #this ticks down to 0 and exits because 0 is False\n",
    "        sdate = sdate - datetime.timedelta(weeks=1)  #subtract a week from the last stored datetime value\n",
    "        end_date = end_date - datetime.timedelta(weeks=1)\n",
    "        start_urls.append(url_frmt(epoch_conv2(sdate), epoch_conv2(end_date)))        #add the new value to our list of urls\n",
    "        rule_urls.extend(rule_frmt(epoch_conv2(sdate), epoch_conv2(end_date)))\n",
    "        num_weeks -= 1                               #subtract one from number of weeks left to iterate through\n",
    "    results = [start_urls, rule_urls]\n",
    "    return results\n",
    "\n",
    "print \"{0} you {1}\".format('hi', 'jerk')"
   ]
  },
  {
   "cell_type": "code",
   "execution_count": 3,
   "metadata": {
    "collapsed": false
   },
   "outputs": [
    {
     "data": {
      "text/plain": [
       "['/r/analog/search\\\\?sort=new&q=timestamp%3A1467924367..1468529167&restrict_sr=on&syntax=cloudsearch&count=\\\\d*&after=\\\\w*',\n",
       " '/r/analog/search\\\\?q=timestamp%3A1467924367..1468529167&restrict_sr=on&sort=new&syntax=cloudsearch&count=\\\\d*&after=\\\\w*',\n",
       " '/r/analog/search\\\\?after=\\\\w*&count=\\\\d*&q=timestamp%3A1467924367..1468529167&restrict_sr=on&sort=new&syntax=cloudsearch',\n",
       " '/r/analog/search\\\\?sort=new&q=timestamp%3A1467319567..1467924367&restrict_sr=on&syntax=cloudsearch&count=\\\\d*&after=\\\\w*',\n",
       " '/r/analog/search\\\\?q=timestamp%3A1467319567..1467924367&restrict_sr=on&sort=new&syntax=cloudsearch&count=\\\\d*&after=\\\\w*',\n",
       " '/r/analog/search\\\\?after=\\\\w*&count=\\\\d*&q=timestamp%3A1467319567..1467924367&restrict_sr=on&sort=new&syntax=cloudsearch',\n",
       " '/r/analog/search\\\\?sort=new&q=timestamp%3A1466714767..1467319567&restrict_sr=on&syntax=cloudsearch&count=\\\\d*&after=\\\\w*',\n",
       " '/r/analog/search\\\\?q=timestamp%3A1466714767..1467319567&restrict_sr=on&sort=new&syntax=cloudsearch&count=\\\\d*&after=\\\\w*',\n",
       " '/r/analog/search\\\\?after=\\\\w*&count=\\\\d*&q=timestamp%3A1466714767..1467319567&restrict_sr=on&sort=new&syntax=cloudsearch',\n",
       " '/r/analog/search\\\\?sort=new&q=timestamp%3A1466109967..1466714767&restrict_sr=on&syntax=cloudsearch&count=\\\\d*&after=\\\\w*',\n",
       " '/r/analog/search\\\\?q=timestamp%3A1466109967..1466714767&restrict_sr=on&sort=new&syntax=cloudsearch&count=\\\\d*&after=\\\\w*',\n",
       " '/r/analog/search\\\\?after=\\\\w*&count=\\\\d*&q=timestamp%3A1466109967..1466714767&restrict_sr=on&sort=new&syntax=cloudsearch',\n",
       " '/r/analog/search\\\\?sort=new&q=timestamp%3A1465505167..1466109967&restrict_sr=on&syntax=cloudsearch&count=\\\\d*&after=\\\\w*',\n",
       " '/r/analog/search\\\\?q=timestamp%3A1465505167..1466109967&restrict_sr=on&sort=new&syntax=cloudsearch&count=\\\\d*&after=\\\\w*',\n",
       " '/r/analog/search\\\\?after=\\\\w*&count=\\\\d*&q=timestamp%3A1465505167..1466109967&restrict_sr=on&sort=new&syntax=cloudsearch',\n",
       " '/r/analog/search\\\\?sort=new&q=timestamp%3A1464900367..1465505167&restrict_sr=on&syntax=cloudsearch&count=\\\\d*&after=\\\\w*',\n",
       " '/r/analog/search\\\\?q=timestamp%3A1464900367..1465505167&restrict_sr=on&sort=new&syntax=cloudsearch&count=\\\\d*&after=\\\\w*',\n",
       " '/r/analog/search\\\\?after=\\\\w*&count=\\\\d*&q=timestamp%3A1464900367..1465505167&restrict_sr=on&sort=new&syntax=cloudsearch',\n",
       " '/r/analog/search\\\\?sort=new&q=timestamp%3A1464295567..1464900367&restrict_sr=on&syntax=cloudsearch&count=\\\\d*&after=\\\\w*',\n",
       " '/r/analog/search\\\\?q=timestamp%3A1464295567..1464900367&restrict_sr=on&sort=new&syntax=cloudsearch&count=\\\\d*&after=\\\\w*',\n",
       " '/r/analog/search\\\\?after=\\\\w*&count=\\\\d*&q=timestamp%3A1464295567..1464900367&restrict_sr=on&sort=new&syntax=cloudsearch',\n",
       " '/r/analog/search\\\\?sort=new&q=timestamp%3A1463690767..1464295567&restrict_sr=on&syntax=cloudsearch&count=\\\\d*&after=\\\\w*',\n",
       " '/r/analog/search\\\\?q=timestamp%3A1463690767..1464295567&restrict_sr=on&sort=new&syntax=cloudsearch&count=\\\\d*&after=\\\\w*',\n",
       " '/r/analog/search\\\\?after=\\\\w*&count=\\\\d*&q=timestamp%3A1463690767..1464295567&restrict_sr=on&sort=new&syntax=cloudsearch',\n",
       " '/r/analog/search\\\\?sort=new&q=timestamp%3A1463085967..1463690767&restrict_sr=on&syntax=cloudsearch&count=\\\\d*&after=\\\\w*',\n",
       " '/r/analog/search\\\\?q=timestamp%3A1463085967..1463690767&restrict_sr=on&sort=new&syntax=cloudsearch&count=\\\\d*&after=\\\\w*',\n",
       " '/r/analog/search\\\\?after=\\\\w*&count=\\\\d*&q=timestamp%3A1463085967..1463690767&restrict_sr=on&sort=new&syntax=cloudsearch',\n",
       " '/r/analog/search\\\\?sort=new&q=timestamp%3A1462481167..1463085967&restrict_sr=on&syntax=cloudsearch&count=\\\\d*&after=\\\\w*',\n",
       " '/r/analog/search\\\\?q=timestamp%3A1462481167..1463085967&restrict_sr=on&sort=new&syntax=cloudsearch&count=\\\\d*&after=\\\\w*',\n",
       " '/r/analog/search\\\\?after=\\\\w*&count=\\\\d*&q=timestamp%3A1462481167..1463085967&restrict_sr=on&sort=new&syntax=cloudsearch',\n",
       " '/r/analog/search\\\\?sort=new&q=timestamp%3A1461876367..1462481167&restrict_sr=on&syntax=cloudsearch&count=\\\\d*&after=\\\\w*',\n",
       " '/r/analog/search\\\\?q=timestamp%3A1461876367..1462481167&restrict_sr=on&sort=new&syntax=cloudsearch&count=\\\\d*&after=\\\\w*',\n",
       " '/r/analog/search\\\\?after=\\\\w*&count=\\\\d*&q=timestamp%3A1461876367..1462481167&restrict_sr=on&sort=new&syntax=cloudsearch',\n",
       " '/r/analog/search\\\\?sort=new&q=timestamp%3A1461271567..1461876367&restrict_sr=on&syntax=cloudsearch&count=\\\\d*&after=\\\\w*',\n",
       " '/r/analog/search\\\\?q=timestamp%3A1461271567..1461876367&restrict_sr=on&sort=new&syntax=cloudsearch&count=\\\\d*&after=\\\\w*',\n",
       " '/r/analog/search\\\\?after=\\\\w*&count=\\\\d*&q=timestamp%3A1461271567..1461876367&restrict_sr=on&sort=new&syntax=cloudsearch',\n",
       " '/r/analog/search\\\\?sort=new&q=timestamp%3A1460666767..1461271567&restrict_sr=on&syntax=cloudsearch&count=\\\\d*&after=\\\\w*',\n",
       " '/r/analog/search\\\\?q=timestamp%3A1460666767..1461271567&restrict_sr=on&sort=new&syntax=cloudsearch&count=\\\\d*&after=\\\\w*',\n",
       " '/r/analog/search\\\\?after=\\\\w*&count=\\\\d*&q=timestamp%3A1460666767..1461271567&restrict_sr=on&sort=new&syntax=cloudsearch',\n",
       " '/r/analog/search\\\\?sort=new&q=timestamp%3A1460061967..1460666767&restrict_sr=on&syntax=cloudsearch&count=\\\\d*&after=\\\\w*',\n",
       " '/r/analog/search\\\\?q=timestamp%3A1460061967..1460666767&restrict_sr=on&sort=new&syntax=cloudsearch&count=\\\\d*&after=\\\\w*',\n",
       " '/r/analog/search\\\\?after=\\\\w*&count=\\\\d*&q=timestamp%3A1460061967..1460666767&restrict_sr=on&sort=new&syntax=cloudsearch',\n",
       " '/r/analog/search\\\\?sort=new&q=timestamp%3A1459457167..1460061967&restrict_sr=on&syntax=cloudsearch&count=\\\\d*&after=\\\\w*',\n",
       " '/r/analog/search\\\\?q=timestamp%3A1459457167..1460061967&restrict_sr=on&sort=new&syntax=cloudsearch&count=\\\\d*&after=\\\\w*',\n",
       " '/r/analog/search\\\\?after=\\\\w*&count=\\\\d*&q=timestamp%3A1459457167..1460061967&restrict_sr=on&sort=new&syntax=cloudsearch',\n",
       " '/r/analog/search\\\\?sort=new&q=timestamp%3A1458852367..1459457167&restrict_sr=on&syntax=cloudsearch&count=\\\\d*&after=\\\\w*',\n",
       " '/r/analog/search\\\\?q=timestamp%3A1458852367..1459457167&restrict_sr=on&sort=new&syntax=cloudsearch&count=\\\\d*&after=\\\\w*',\n",
       " '/r/analog/search\\\\?after=\\\\w*&count=\\\\d*&q=timestamp%3A1458852367..1459457167&restrict_sr=on&sort=new&syntax=cloudsearch',\n",
       " '/r/analog/search\\\\?sort=new&q=timestamp%3A1458247567..1458852367&restrict_sr=on&syntax=cloudsearch&count=\\\\d*&after=\\\\w*',\n",
       " '/r/analog/search\\\\?q=timestamp%3A1458247567..1458852367&restrict_sr=on&sort=new&syntax=cloudsearch&count=\\\\d*&after=\\\\w*',\n",
       " '/r/analog/search\\\\?after=\\\\w*&count=\\\\d*&q=timestamp%3A1458247567..1458852367&restrict_sr=on&sort=new&syntax=cloudsearch',\n",
       " '/r/analog/search\\\\?sort=new&q=timestamp%3A1457642767..1458247567&restrict_sr=on&syntax=cloudsearch&count=\\\\d*&after=\\\\w*',\n",
       " '/r/analog/search\\\\?q=timestamp%3A1457642767..1458247567&restrict_sr=on&sort=new&syntax=cloudsearch&count=\\\\d*&after=\\\\w*',\n",
       " '/r/analog/search\\\\?after=\\\\w*&count=\\\\d*&q=timestamp%3A1457642767..1458247567&restrict_sr=on&sort=new&syntax=cloudsearch',\n",
       " '/r/analog/search\\\\?sort=new&q=timestamp%3A1457037967..1457642767&restrict_sr=on&syntax=cloudsearch&count=\\\\d*&after=\\\\w*',\n",
       " '/r/analog/search\\\\?q=timestamp%3A1457037967..1457642767&restrict_sr=on&sort=new&syntax=cloudsearch&count=\\\\d*&after=\\\\w*',\n",
       " '/r/analog/search\\\\?after=\\\\w*&count=\\\\d*&q=timestamp%3A1457037967..1457642767&restrict_sr=on&sort=new&syntax=cloudsearch',\n",
       " '/r/analog/search\\\\?sort=new&q=timestamp%3A1456433167..1457037967&restrict_sr=on&syntax=cloudsearch&count=\\\\d*&after=\\\\w*',\n",
       " '/r/analog/search\\\\?q=timestamp%3A1456433167..1457037967&restrict_sr=on&sort=new&syntax=cloudsearch&count=\\\\d*&after=\\\\w*',\n",
       " '/r/analog/search\\\\?after=\\\\w*&count=\\\\d*&q=timestamp%3A1456433167..1457037967&restrict_sr=on&sort=new&syntax=cloudsearch',\n",
       " '/r/analog/search\\\\?sort=new&q=timestamp%3A1455828367..1456433167&restrict_sr=on&syntax=cloudsearch&count=\\\\d*&after=\\\\w*',\n",
       " '/r/analog/search\\\\?q=timestamp%3A1455828367..1456433167&restrict_sr=on&sort=new&syntax=cloudsearch&count=\\\\d*&after=\\\\w*',\n",
       " '/r/analog/search\\\\?after=\\\\w*&count=\\\\d*&q=timestamp%3A1455828367..1456433167&restrict_sr=on&sort=new&syntax=cloudsearch',\n",
       " '/r/analog/search\\\\?sort=new&q=timestamp%3A1455223567..1455828367&restrict_sr=on&syntax=cloudsearch&count=\\\\d*&after=\\\\w*',\n",
       " '/r/analog/search\\\\?q=timestamp%3A1455223567..1455828367&restrict_sr=on&sort=new&syntax=cloudsearch&count=\\\\d*&after=\\\\w*',\n",
       " '/r/analog/search\\\\?after=\\\\w*&count=\\\\d*&q=timestamp%3A1455223567..1455828367&restrict_sr=on&sort=new&syntax=cloudsearch',\n",
       " '/r/analog/search\\\\?sort=new&q=timestamp%3A1454618767..1455223567&restrict_sr=on&syntax=cloudsearch&count=\\\\d*&after=\\\\w*',\n",
       " '/r/analog/search\\\\?q=timestamp%3A1454618767..1455223567&restrict_sr=on&sort=new&syntax=cloudsearch&count=\\\\d*&after=\\\\w*',\n",
       " '/r/analog/search\\\\?after=\\\\w*&count=\\\\d*&q=timestamp%3A1454618767..1455223567&restrict_sr=on&sort=new&syntax=cloudsearch',\n",
       " '/r/analog/search\\\\?sort=new&q=timestamp%3A1454013967..1454618767&restrict_sr=on&syntax=cloudsearch&count=\\\\d*&after=\\\\w*',\n",
       " '/r/analog/search\\\\?q=timestamp%3A1454013967..1454618767&restrict_sr=on&sort=new&syntax=cloudsearch&count=\\\\d*&after=\\\\w*',\n",
       " '/r/analog/search\\\\?after=\\\\w*&count=\\\\d*&q=timestamp%3A1454013967..1454618767&restrict_sr=on&sort=new&syntax=cloudsearch',\n",
       " '/r/analog/search\\\\?sort=new&q=timestamp%3A1453409167..1454013967&restrict_sr=on&syntax=cloudsearch&count=\\\\d*&after=\\\\w*',\n",
       " '/r/analog/search\\\\?q=timestamp%3A1453409167..1454013967&restrict_sr=on&sort=new&syntax=cloudsearch&count=\\\\d*&after=\\\\w*',\n",
       " '/r/analog/search\\\\?after=\\\\w*&count=\\\\d*&q=timestamp%3A1453409167..1454013967&restrict_sr=on&sort=new&syntax=cloudsearch',\n",
       " '/r/analog/search\\\\?sort=new&q=timestamp%3A1452804367..1453409167&restrict_sr=on&syntax=cloudsearch&count=\\\\d*&after=\\\\w*',\n",
       " '/r/analog/search\\\\?q=timestamp%3A1452804367..1453409167&restrict_sr=on&sort=new&syntax=cloudsearch&count=\\\\d*&after=\\\\w*',\n",
       " '/r/analog/search\\\\?after=\\\\w*&count=\\\\d*&q=timestamp%3A1452804367..1453409167&restrict_sr=on&sort=new&syntax=cloudsearch',\n",
       " '/r/analog/search\\\\?sort=new&q=timestamp%3A1452199567..1452804367&restrict_sr=on&syntax=cloudsearch&count=\\\\d*&after=\\\\w*',\n",
       " '/r/analog/search\\\\?q=timestamp%3A1452199567..1452804367&restrict_sr=on&sort=new&syntax=cloudsearch&count=\\\\d*&after=\\\\w*',\n",
       " '/r/analog/search\\\\?after=\\\\w*&count=\\\\d*&q=timestamp%3A1452199567..1452804367&restrict_sr=on&sort=new&syntax=cloudsearch',\n",
       " '/r/analog/search\\\\?sort=new&q=timestamp%3A1451594767..1452199567&restrict_sr=on&syntax=cloudsearch&count=\\\\d*&after=\\\\w*',\n",
       " '/r/analog/search\\\\?q=timestamp%3A1451594767..1452199567&restrict_sr=on&sort=new&syntax=cloudsearch&count=\\\\d*&after=\\\\w*',\n",
       " '/r/analog/search\\\\?after=\\\\w*&count=\\\\d*&q=timestamp%3A1451594767..1452199567&restrict_sr=on&sort=new&syntax=cloudsearch',\n",
       " '/r/analog/search\\\\?sort=new&q=timestamp%3A1450989967..1451594767&restrict_sr=on&syntax=cloudsearch&count=\\\\d*&after=\\\\w*',\n",
       " '/r/analog/search\\\\?q=timestamp%3A1450989967..1451594767&restrict_sr=on&sort=new&syntax=cloudsearch&count=\\\\d*&after=\\\\w*',\n",
       " '/r/analog/search\\\\?after=\\\\w*&count=\\\\d*&q=timestamp%3A1450989967..1451594767&restrict_sr=on&sort=new&syntax=cloudsearch',\n",
       " '/r/analog/search\\\\?sort=new&q=timestamp%3A1450385167..1450989967&restrict_sr=on&syntax=cloudsearch&count=\\\\d*&after=\\\\w*',\n",
       " '/r/analog/search\\\\?q=timestamp%3A1450385167..1450989967&restrict_sr=on&sort=new&syntax=cloudsearch&count=\\\\d*&after=\\\\w*',\n",
       " '/r/analog/search\\\\?after=\\\\w*&count=\\\\d*&q=timestamp%3A1450385167..1450989967&restrict_sr=on&sort=new&syntax=cloudsearch',\n",
       " '/r/analog/search\\\\?sort=new&q=timestamp%3A1449780367..1450385167&restrict_sr=on&syntax=cloudsearch&count=\\\\d*&after=\\\\w*',\n",
       " '/r/analog/search\\\\?q=timestamp%3A1449780367..1450385167&restrict_sr=on&sort=new&syntax=cloudsearch&count=\\\\d*&after=\\\\w*',\n",
       " '/r/analog/search\\\\?after=\\\\w*&count=\\\\d*&q=timestamp%3A1449780367..1450385167&restrict_sr=on&sort=new&syntax=cloudsearch',\n",
       " '/r/analog/search\\\\?sort=new&q=timestamp%3A1449175567..1449780367&restrict_sr=on&syntax=cloudsearch&count=\\\\d*&after=\\\\w*',\n",
       " '/r/analog/search\\\\?q=timestamp%3A1449175567..1449780367&restrict_sr=on&sort=new&syntax=cloudsearch&count=\\\\d*&after=\\\\w*',\n",
       " '/r/analog/search\\\\?after=\\\\w*&count=\\\\d*&q=timestamp%3A1449175567..1449780367&restrict_sr=on&sort=new&syntax=cloudsearch',\n",
       " '/r/analog/search\\\\?sort=new&q=timestamp%3A1448570767..1449175567&restrict_sr=on&syntax=cloudsearch&count=\\\\d*&after=\\\\w*',\n",
       " '/r/analog/search\\\\?q=timestamp%3A1448570767..1449175567&restrict_sr=on&sort=new&syntax=cloudsearch&count=\\\\d*&after=\\\\w*',\n",
       " '/r/analog/search\\\\?after=\\\\w*&count=\\\\d*&q=timestamp%3A1448570767..1449175567&restrict_sr=on&sort=new&syntax=cloudsearch',\n",
       " '/r/analog/search\\\\?sort=new&q=timestamp%3A1447965967..1448570767&restrict_sr=on&syntax=cloudsearch&count=\\\\d*&after=\\\\w*',\n",
       " '/r/analog/search\\\\?q=timestamp%3A1447965967..1448570767&restrict_sr=on&sort=new&syntax=cloudsearch&count=\\\\d*&after=\\\\w*',\n",
       " '/r/analog/search\\\\?after=\\\\w*&count=\\\\d*&q=timestamp%3A1447965967..1448570767&restrict_sr=on&sort=new&syntax=cloudsearch',\n",
       " '/r/analog/search\\\\?sort=new&q=timestamp%3A1447361167..1447965967&restrict_sr=on&syntax=cloudsearch&count=\\\\d*&after=\\\\w*',\n",
       " '/r/analog/search\\\\?q=timestamp%3A1447361167..1447965967&restrict_sr=on&sort=new&syntax=cloudsearch&count=\\\\d*&after=\\\\w*',\n",
       " '/r/analog/search\\\\?after=\\\\w*&count=\\\\d*&q=timestamp%3A1447361167..1447965967&restrict_sr=on&sort=new&syntax=cloudsearch',\n",
       " '/r/analog/search\\\\?sort=new&q=timestamp%3A1446756367..1447361167&restrict_sr=on&syntax=cloudsearch&count=\\\\d*&after=\\\\w*',\n",
       " '/r/analog/search\\\\?q=timestamp%3A1446756367..1447361167&restrict_sr=on&sort=new&syntax=cloudsearch&count=\\\\d*&after=\\\\w*',\n",
       " '/r/analog/search\\\\?after=\\\\w*&count=\\\\d*&q=timestamp%3A1446756367..1447361167&restrict_sr=on&sort=new&syntax=cloudsearch',\n",
       " '/r/analog/search\\\\?sort=new&q=timestamp%3A1446151567..1446756367&restrict_sr=on&syntax=cloudsearch&count=\\\\d*&after=\\\\w*',\n",
       " '/r/analog/search\\\\?q=timestamp%3A1446151567..1446756367&restrict_sr=on&sort=new&syntax=cloudsearch&count=\\\\d*&after=\\\\w*',\n",
       " '/r/analog/search\\\\?after=\\\\w*&count=\\\\d*&q=timestamp%3A1446151567..1446756367&restrict_sr=on&sort=new&syntax=cloudsearch',\n",
       " '/r/analog/search\\\\?sort=new&q=timestamp%3A1445546767..1446151567&restrict_sr=on&syntax=cloudsearch&count=\\\\d*&after=\\\\w*',\n",
       " '/r/analog/search\\\\?q=timestamp%3A1445546767..1446151567&restrict_sr=on&sort=new&syntax=cloudsearch&count=\\\\d*&after=\\\\w*',\n",
       " '/r/analog/search\\\\?after=\\\\w*&count=\\\\d*&q=timestamp%3A1445546767..1446151567&restrict_sr=on&sort=new&syntax=cloudsearch',\n",
       " '/r/analog/search\\\\?sort=new&q=timestamp%3A1444941967..1445546767&restrict_sr=on&syntax=cloudsearch&count=\\\\d*&after=\\\\w*',\n",
       " '/r/analog/search\\\\?q=timestamp%3A1444941967..1445546767&restrict_sr=on&sort=new&syntax=cloudsearch&count=\\\\d*&after=\\\\w*',\n",
       " '/r/analog/search\\\\?after=\\\\w*&count=\\\\d*&q=timestamp%3A1444941967..1445546767&restrict_sr=on&sort=new&syntax=cloudsearch',\n",
       " '/r/analog/search\\\\?sort=new&q=timestamp%3A1444337167..1444941967&restrict_sr=on&syntax=cloudsearch&count=\\\\d*&after=\\\\w*',\n",
       " '/r/analog/search\\\\?q=timestamp%3A1444337167..1444941967&restrict_sr=on&sort=new&syntax=cloudsearch&count=\\\\d*&after=\\\\w*',\n",
       " '/r/analog/search\\\\?after=\\\\w*&count=\\\\d*&q=timestamp%3A1444337167..1444941967&restrict_sr=on&sort=new&syntax=cloudsearch',\n",
       " '/r/analog/search\\\\?sort=new&q=timestamp%3A1443732367..1444337167&restrict_sr=on&syntax=cloudsearch&count=\\\\d*&after=\\\\w*',\n",
       " '/r/analog/search\\\\?q=timestamp%3A1443732367..1444337167&restrict_sr=on&sort=new&syntax=cloudsearch&count=\\\\d*&after=\\\\w*',\n",
       " '/r/analog/search\\\\?after=\\\\w*&count=\\\\d*&q=timestamp%3A1443732367..1444337167&restrict_sr=on&sort=new&syntax=cloudsearch',\n",
       " '/r/analog/search\\\\?sort=new&q=timestamp%3A1443127567..1443732367&restrict_sr=on&syntax=cloudsearch&count=\\\\d*&after=\\\\w*',\n",
       " '/r/analog/search\\\\?q=timestamp%3A1443127567..1443732367&restrict_sr=on&sort=new&syntax=cloudsearch&count=\\\\d*&after=\\\\w*',\n",
       " '/r/analog/search\\\\?after=\\\\w*&count=\\\\d*&q=timestamp%3A1443127567..1443732367&restrict_sr=on&sort=new&syntax=cloudsearch',\n",
       " '/r/analog/search\\\\?sort=new&q=timestamp%3A1442522767..1443127567&restrict_sr=on&syntax=cloudsearch&count=\\\\d*&after=\\\\w*',\n",
       " '/r/analog/search\\\\?q=timestamp%3A1442522767..1443127567&restrict_sr=on&sort=new&syntax=cloudsearch&count=\\\\d*&after=\\\\w*',\n",
       " '/r/analog/search\\\\?after=\\\\w*&count=\\\\d*&q=timestamp%3A1442522767..1443127567&restrict_sr=on&sort=new&syntax=cloudsearch',\n",
       " '/r/analog/search\\\\?sort=new&q=timestamp%3A1441917967..1442522767&restrict_sr=on&syntax=cloudsearch&count=\\\\d*&after=\\\\w*',\n",
       " '/r/analog/search\\\\?q=timestamp%3A1441917967..1442522767&restrict_sr=on&sort=new&syntax=cloudsearch&count=\\\\d*&after=\\\\w*',\n",
       " '/r/analog/search\\\\?after=\\\\w*&count=\\\\d*&q=timestamp%3A1441917967..1442522767&restrict_sr=on&sort=new&syntax=cloudsearch',\n",
       " '/r/analog/search\\\\?sort=new&q=timestamp%3A1441313167..1441917967&restrict_sr=on&syntax=cloudsearch&count=\\\\d*&after=\\\\w*',\n",
       " '/r/analog/search\\\\?q=timestamp%3A1441313167..1441917967&restrict_sr=on&sort=new&syntax=cloudsearch&count=\\\\d*&after=\\\\w*',\n",
       " '/r/analog/search\\\\?after=\\\\w*&count=\\\\d*&q=timestamp%3A1441313167..1441917967&restrict_sr=on&sort=new&syntax=cloudsearch',\n",
       " '/r/analog/search\\\\?sort=new&q=timestamp%3A1440708367..1441313167&restrict_sr=on&syntax=cloudsearch&count=\\\\d*&after=\\\\w*',\n",
       " '/r/analog/search\\\\?q=timestamp%3A1440708367..1441313167&restrict_sr=on&sort=new&syntax=cloudsearch&count=\\\\d*&after=\\\\w*',\n",
       " '/r/analog/search\\\\?after=\\\\w*&count=\\\\d*&q=timestamp%3A1440708367..1441313167&restrict_sr=on&sort=new&syntax=cloudsearch',\n",
       " '/r/analog/search\\\\?sort=new&q=timestamp%3A1440103567..1440708367&restrict_sr=on&syntax=cloudsearch&count=\\\\d*&after=\\\\w*',\n",
       " '/r/analog/search\\\\?q=timestamp%3A1440103567..1440708367&restrict_sr=on&sort=new&syntax=cloudsearch&count=\\\\d*&after=\\\\w*',\n",
       " '/r/analog/search\\\\?after=\\\\w*&count=\\\\d*&q=timestamp%3A1440103567..1440708367&restrict_sr=on&sort=new&syntax=cloudsearch',\n",
       " '/r/analog/search\\\\?sort=new&q=timestamp%3A1439498767..1440103567&restrict_sr=on&syntax=cloudsearch&count=\\\\d*&after=\\\\w*',\n",
       " '/r/analog/search\\\\?q=timestamp%3A1439498767..1440103567&restrict_sr=on&sort=new&syntax=cloudsearch&count=\\\\d*&after=\\\\w*',\n",
       " '/r/analog/search\\\\?after=\\\\w*&count=\\\\d*&q=timestamp%3A1439498767..1440103567&restrict_sr=on&sort=new&syntax=cloudsearch',\n",
       " '/r/analog/search\\\\?sort=new&q=timestamp%3A1438893967..1439498767&restrict_sr=on&syntax=cloudsearch&count=\\\\d*&after=\\\\w*',\n",
       " '/r/analog/search\\\\?q=timestamp%3A1438893967..1439498767&restrict_sr=on&sort=new&syntax=cloudsearch&count=\\\\d*&after=\\\\w*',\n",
       " '/r/analog/search\\\\?after=\\\\w*&count=\\\\d*&q=timestamp%3A1438893967..1439498767&restrict_sr=on&sort=new&syntax=cloudsearch',\n",
       " '/r/analog/search\\\\?sort=new&q=timestamp%3A1438289167..1438893967&restrict_sr=on&syntax=cloudsearch&count=\\\\d*&after=\\\\w*',\n",
       " '/r/analog/search\\\\?q=timestamp%3A1438289167..1438893967&restrict_sr=on&sort=new&syntax=cloudsearch&count=\\\\d*&after=\\\\w*',\n",
       " '/r/analog/search\\\\?after=\\\\w*&count=\\\\d*&q=timestamp%3A1438289167..1438893967&restrict_sr=on&sort=new&syntax=cloudsearch',\n",
       " '/r/analog/search\\\\?sort=new&q=timestamp%3A1437684367..1438289167&restrict_sr=on&syntax=cloudsearch&count=\\\\d*&after=\\\\w*',\n",
       " '/r/analog/search\\\\?q=timestamp%3A1437684367..1438289167&restrict_sr=on&sort=new&syntax=cloudsearch&count=\\\\d*&after=\\\\w*',\n",
       " '/r/analog/search\\\\?after=\\\\w*&count=\\\\d*&q=timestamp%3A1437684367..1438289167&restrict_sr=on&sort=new&syntax=cloudsearch',\n",
       " '/r/analog/search\\\\?sort=new&q=timestamp%3A1437079567..1437684367&restrict_sr=on&syntax=cloudsearch&count=\\\\d*&after=\\\\w*',\n",
       " '/r/analog/search\\\\?q=timestamp%3A1437079567..1437684367&restrict_sr=on&sort=new&syntax=cloudsearch&count=\\\\d*&after=\\\\w*',\n",
       " '/r/analog/search\\\\?after=\\\\w*&count=\\\\d*&q=timestamp%3A1437079567..1437684367&restrict_sr=on&sort=new&syntax=cloudsearch']"
      ]
     },
     "execution_count": 3,
     "metadata": {},
     "output_type": "execute_result"
    }
   ],
   "source": [
    "start_url_gen()[1]"
   ]
  },
  {
   "cell_type": "code",
   "execution_count": null,
   "metadata": {
    "collapsed": true
   },
   "outputs": [],
   "source": [
    "a = 1437539399"
   ]
  }
 ],
 "metadata": {
  "kernelspec": {
   "display_name": "Python 2",
   "language": "python",
   "name": "python2"
  },
  "language_info": {
   "codemirror_mode": {
    "name": "ipython",
    "version": 2
   },
   "file_extension": ".py",
   "mimetype": "text/x-python",
   "name": "python",
   "nbconvert_exporter": "python",
   "pygments_lexer": "ipython2",
   "version": "2.7.11"
  }
 },
 "nbformat": 4,
 "nbformat_minor": 0
}
