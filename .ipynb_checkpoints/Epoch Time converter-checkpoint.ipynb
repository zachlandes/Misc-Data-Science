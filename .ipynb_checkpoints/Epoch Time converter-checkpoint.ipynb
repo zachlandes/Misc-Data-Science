{
 "cells": [
  {
   "cell_type": "code",
   "execution_count": 7,
   "metadata": {
    "collapsed": false
   },
   "outputs": [
    {
     "name": "stdout",
     "output_type": "stream",
     "text": [
      "time.struct_time(tm_year=2016, tm_mon=5, tm_mday=2, tm_hour=16, tm_min=40, tm_sec=40, tm_wday=0, tm_yday=123, tm_isdst=0)\n"
     ]
    }
   ],
   "source": [
    "import time \n",
    "\n",
    "rdate = 'Mon May 2 16:40:40 2016 UTC'\n",
    "\n",
    "pattern = \"%a %B %d %H:%M:%S %Y %Z\"\n",
    "\n",
    "print time.strptime(rdate, pattern)\n",
    "\n",
    "def epoch_conv(rdate):\n",
    "    epoch = int(time.mktime(time.strptime(rdate, pattern))) #mktime takes a time in LOCAL TIME\n",
    "    return epoch\n"
   ]
  },
  {
   "cell_type": "code",
   "execution_count": 10,
   "metadata": {
    "collapsed": false
   },
   "outputs": [
    {
     "name": "stdout",
     "output_type": "stream",
     "text": [
      "2016-07-23 17:22:27.720387\n"
     ]
    }
   ],
   "source": [
    "import datetime\n",
    "a = datetime.datetime.utcnow()\n",
    "print a"
   ]
  },
  {
   "cell_type": "code",
   "execution_count": 11,
   "metadata": {
    "collapsed": false
   },
   "outputs": [
    {
     "name": "stdout",
     "output_type": "stream",
     "text": [
      "2016-07-16 17:22:27.720387\n"
     ]
    }
   ],
   "source": [
    "a = a - datetime.timedelta(weeks=1)\n",
    "print a"
   ]
  },
  {
   "cell_type": "code",
   "execution_count": 77,
   "metadata": {
    "collapsed": true
   },
   "outputs": [],
   "source": [
    "import datetime\n",
    "import calendar\n",
    "\n",
    "def epoch_conv2(rdate):                             #converts utc timestamps to unix epoch \n",
    "    epoch = calendar.timegm(rdate.timetuple())\n",
    "    return epoch\n",
    "\n",
    "def url_frmt(start_date, end_date):\n",
    "    url = 'https://www.reddit.com/r/analog/search?sort=new&q=timestamp%3A'+'{}'.format(str(start_date))+'..'+'{}'.format(str(end_date))+'&restrict_sr=on&syntax=cloudsearch' \n",
    "    return url\n",
    "def rule_frmt(start_date, end_date):\n",
    "    r1 = '/r/analog/search\\?sort=new&q=timestamp%3A'+'{}'.format(str(start_date))+'..'+'{}'.format(str(end_date))+'&restrict_sr=on&syntax=cloudsearch&count=\\d*&after=\\w*'\n",
    "    r2 = '/r/analog/search\\?q=timestamp%3A'+'{}'.format(str(start_date))+'..'+'{}'.format(str(end_date))+'&restrict_sr=on&sort=new&syntax=cloudsearch&count=\\d*&after=\\w*'\n",
    "    r3 = '/r/analog/search\\?after=\\w*&count=\\d*&q=timestamp%3A'+'{}'.format(str(start_date))+'..'+'{}'.format(str(end_date))+'&restrict_sr=on&sort=new&syntax=cloudsearch'\n",
    "    return [r1, r2, r3]\n",
    "\n",
    "def start_url_gen(sdate = datetime.datetime.utcnow() - datetime.timedelta(weeks=2), num_weeks = 51):\n",
    "    sdate = sdate\n",
    "    num_weeks = num_weeks\n",
    "    end_date = sdate - datetime.timedelta(weeks=1)\n",
    "    start_urls = [url_frmt(epoch_conv2(sdate), epoch_conv2(end_date))]\n",
    "    rule_urls = rule_frmt(epoch_conv2(sdate), epoch_conv2(end_date))\n",
    "    results = []\n",
    "    while num_weeks:                                 #this ticks down to 0 and exits because 0 is False\n",
    "        sdate = sdate - datetime.timedelta(weeks=1)  #subtract a week from the last stored datetime value\n",
    "        end_date = end_date - datetime.timedelta(weeks=1)\n",
    "        start_urls.append(url_frmt(epoch_conv2(sdate), epoch_conv2(end_date)))        #add the new value to our list of urls\n",
    "        rule_urls.extend(rule_frmt(epoch_conv2(sdate), epoch_conv2(end_date)))\n",
    "        num_weeks -= 1                               #subtract one from number of weeks left to iterate through\n",
    "    results = [start_urls, rule_urls]\n",
    "    return results"
   ]
  },
  {
   "cell_type": "code",
   "execution_count": 78,
   "metadata": {
    "collapsed": false
   },
   "outputs": [
    {
     "data": {
      "text/plain": [
       "['/r/analog/search\\\\?sort=new&q=timestamp%3A1468187854..1467583054&restrict_sr=on&syntax=cloudsearch&count=\\\\d*&after=\\\\w*',\n",
       " '/r/analog/search\\\\?q=timestamp%3A1468187854..1467583054&restrict_sr=on&sort=new&syntax=cloudsearch&count=\\\\d*&after=\\\\w*',\n",
       " '/r/analog/search\\\\?after=\\\\w*&count=\\\\d*&q=timestamp%3A1468187854..1467583054&restrict_sr=on&sort=new&syntax=cloudsearch',\n",
       " '/r/analog/search\\\\?sort=new&q=timestamp%3A1467583054..1466978254&restrict_sr=on&syntax=cloudsearch&count=\\\\d*&after=\\\\w*',\n",
       " '/r/analog/search\\\\?q=timestamp%3A1467583054..1466978254&restrict_sr=on&sort=new&syntax=cloudsearch&count=\\\\d*&after=\\\\w*',\n",
       " '/r/analog/search\\\\?after=\\\\w*&count=\\\\d*&q=timestamp%3A1467583054..1466978254&restrict_sr=on&sort=new&syntax=cloudsearch',\n",
       " '/r/analog/search\\\\?sort=new&q=timestamp%3A1466978254..1466373454&restrict_sr=on&syntax=cloudsearch&count=\\\\d*&after=\\\\w*',\n",
       " '/r/analog/search\\\\?q=timestamp%3A1466978254..1466373454&restrict_sr=on&sort=new&syntax=cloudsearch&count=\\\\d*&after=\\\\w*',\n",
       " '/r/analog/search\\\\?after=\\\\w*&count=\\\\d*&q=timestamp%3A1466978254..1466373454&restrict_sr=on&sort=new&syntax=cloudsearch',\n",
       " '/r/analog/search\\\\?sort=new&q=timestamp%3A1466373454..1465768654&restrict_sr=on&syntax=cloudsearch&count=\\\\d*&after=\\\\w*',\n",
       " '/r/analog/search\\\\?q=timestamp%3A1466373454..1465768654&restrict_sr=on&sort=new&syntax=cloudsearch&count=\\\\d*&after=\\\\w*',\n",
       " '/r/analog/search\\\\?after=\\\\w*&count=\\\\d*&q=timestamp%3A1466373454..1465768654&restrict_sr=on&sort=new&syntax=cloudsearch',\n",
       " '/r/analog/search\\\\?sort=new&q=timestamp%3A1465768654..1465163854&restrict_sr=on&syntax=cloudsearch&count=\\\\d*&after=\\\\w*',\n",
       " '/r/analog/search\\\\?q=timestamp%3A1465768654..1465163854&restrict_sr=on&sort=new&syntax=cloudsearch&count=\\\\d*&after=\\\\w*',\n",
       " '/r/analog/search\\\\?after=\\\\w*&count=\\\\d*&q=timestamp%3A1465768654..1465163854&restrict_sr=on&sort=new&syntax=cloudsearch',\n",
       " '/r/analog/search\\\\?sort=new&q=timestamp%3A1465163854..1464559054&restrict_sr=on&syntax=cloudsearch&count=\\\\d*&after=\\\\w*',\n",
       " '/r/analog/search\\\\?q=timestamp%3A1465163854..1464559054&restrict_sr=on&sort=new&syntax=cloudsearch&count=\\\\d*&after=\\\\w*',\n",
       " '/r/analog/search\\\\?after=\\\\w*&count=\\\\d*&q=timestamp%3A1465163854..1464559054&restrict_sr=on&sort=new&syntax=cloudsearch',\n",
       " '/r/analog/search\\\\?sort=new&q=timestamp%3A1464559054..1463954254&restrict_sr=on&syntax=cloudsearch&count=\\\\d*&after=\\\\w*',\n",
       " '/r/analog/search\\\\?q=timestamp%3A1464559054..1463954254&restrict_sr=on&sort=new&syntax=cloudsearch&count=\\\\d*&after=\\\\w*',\n",
       " '/r/analog/search\\\\?after=\\\\w*&count=\\\\d*&q=timestamp%3A1464559054..1463954254&restrict_sr=on&sort=new&syntax=cloudsearch',\n",
       " '/r/analog/search\\\\?sort=new&q=timestamp%3A1463954254..1463349454&restrict_sr=on&syntax=cloudsearch&count=\\\\d*&after=\\\\w*',\n",
       " '/r/analog/search\\\\?q=timestamp%3A1463954254..1463349454&restrict_sr=on&sort=new&syntax=cloudsearch&count=\\\\d*&after=\\\\w*',\n",
       " '/r/analog/search\\\\?after=\\\\w*&count=\\\\d*&q=timestamp%3A1463954254..1463349454&restrict_sr=on&sort=new&syntax=cloudsearch',\n",
       " '/r/analog/search\\\\?sort=new&q=timestamp%3A1463349454..1462744654&restrict_sr=on&syntax=cloudsearch&count=\\\\d*&after=\\\\w*',\n",
       " '/r/analog/search\\\\?q=timestamp%3A1463349454..1462744654&restrict_sr=on&sort=new&syntax=cloudsearch&count=\\\\d*&after=\\\\w*',\n",
       " '/r/analog/search\\\\?after=\\\\w*&count=\\\\d*&q=timestamp%3A1463349454..1462744654&restrict_sr=on&sort=new&syntax=cloudsearch',\n",
       " '/r/analog/search\\\\?sort=new&q=timestamp%3A1462744654..1462139854&restrict_sr=on&syntax=cloudsearch&count=\\\\d*&after=\\\\w*',\n",
       " '/r/analog/search\\\\?q=timestamp%3A1462744654..1462139854&restrict_sr=on&sort=new&syntax=cloudsearch&count=\\\\d*&after=\\\\w*',\n",
       " '/r/analog/search\\\\?after=\\\\w*&count=\\\\d*&q=timestamp%3A1462744654..1462139854&restrict_sr=on&sort=new&syntax=cloudsearch',\n",
       " '/r/analog/search\\\\?sort=new&q=timestamp%3A1462139854..1461535054&restrict_sr=on&syntax=cloudsearch&count=\\\\d*&after=\\\\w*',\n",
       " '/r/analog/search\\\\?q=timestamp%3A1462139854..1461535054&restrict_sr=on&sort=new&syntax=cloudsearch&count=\\\\d*&after=\\\\w*',\n",
       " '/r/analog/search\\\\?after=\\\\w*&count=\\\\d*&q=timestamp%3A1462139854..1461535054&restrict_sr=on&sort=new&syntax=cloudsearch',\n",
       " '/r/analog/search\\\\?sort=new&q=timestamp%3A1461535054..1460930254&restrict_sr=on&syntax=cloudsearch&count=\\\\d*&after=\\\\w*',\n",
       " '/r/analog/search\\\\?q=timestamp%3A1461535054..1460930254&restrict_sr=on&sort=new&syntax=cloudsearch&count=\\\\d*&after=\\\\w*',\n",
       " '/r/analog/search\\\\?after=\\\\w*&count=\\\\d*&q=timestamp%3A1461535054..1460930254&restrict_sr=on&sort=new&syntax=cloudsearch',\n",
       " '/r/analog/search\\\\?sort=new&q=timestamp%3A1460930254..1460325454&restrict_sr=on&syntax=cloudsearch&count=\\\\d*&after=\\\\w*',\n",
       " '/r/analog/search\\\\?q=timestamp%3A1460930254..1460325454&restrict_sr=on&sort=new&syntax=cloudsearch&count=\\\\d*&after=\\\\w*',\n",
       " '/r/analog/search\\\\?after=\\\\w*&count=\\\\d*&q=timestamp%3A1460930254..1460325454&restrict_sr=on&sort=new&syntax=cloudsearch',\n",
       " '/r/analog/search\\\\?sort=new&q=timestamp%3A1460325454..1459720654&restrict_sr=on&syntax=cloudsearch&count=\\\\d*&after=\\\\w*',\n",
       " '/r/analog/search\\\\?q=timestamp%3A1460325454..1459720654&restrict_sr=on&sort=new&syntax=cloudsearch&count=\\\\d*&after=\\\\w*',\n",
       " '/r/analog/search\\\\?after=\\\\w*&count=\\\\d*&q=timestamp%3A1460325454..1459720654&restrict_sr=on&sort=new&syntax=cloudsearch',\n",
       " '/r/analog/search\\\\?sort=new&q=timestamp%3A1459720654..1459115854&restrict_sr=on&syntax=cloudsearch&count=\\\\d*&after=\\\\w*',\n",
       " '/r/analog/search\\\\?q=timestamp%3A1459720654..1459115854&restrict_sr=on&sort=new&syntax=cloudsearch&count=\\\\d*&after=\\\\w*',\n",
       " '/r/analog/search\\\\?after=\\\\w*&count=\\\\d*&q=timestamp%3A1459720654..1459115854&restrict_sr=on&sort=new&syntax=cloudsearch',\n",
       " '/r/analog/search\\\\?sort=new&q=timestamp%3A1459115854..1458511054&restrict_sr=on&syntax=cloudsearch&count=\\\\d*&after=\\\\w*',\n",
       " '/r/analog/search\\\\?q=timestamp%3A1459115854..1458511054&restrict_sr=on&sort=new&syntax=cloudsearch&count=\\\\d*&after=\\\\w*',\n",
       " '/r/analog/search\\\\?after=\\\\w*&count=\\\\d*&q=timestamp%3A1459115854..1458511054&restrict_sr=on&sort=new&syntax=cloudsearch',\n",
       " '/r/analog/search\\\\?sort=new&q=timestamp%3A1458511054..1457906254&restrict_sr=on&syntax=cloudsearch&count=\\\\d*&after=\\\\w*',\n",
       " '/r/analog/search\\\\?q=timestamp%3A1458511054..1457906254&restrict_sr=on&sort=new&syntax=cloudsearch&count=\\\\d*&after=\\\\w*',\n",
       " '/r/analog/search\\\\?after=\\\\w*&count=\\\\d*&q=timestamp%3A1458511054..1457906254&restrict_sr=on&sort=new&syntax=cloudsearch',\n",
       " '/r/analog/search\\\\?sort=new&q=timestamp%3A1457906254..1457301454&restrict_sr=on&syntax=cloudsearch&count=\\\\d*&after=\\\\w*',\n",
       " '/r/analog/search\\\\?q=timestamp%3A1457906254..1457301454&restrict_sr=on&sort=new&syntax=cloudsearch&count=\\\\d*&after=\\\\w*',\n",
       " '/r/analog/search\\\\?after=\\\\w*&count=\\\\d*&q=timestamp%3A1457906254..1457301454&restrict_sr=on&sort=new&syntax=cloudsearch',\n",
       " '/r/analog/search\\\\?sort=new&q=timestamp%3A1457301454..1456696654&restrict_sr=on&syntax=cloudsearch&count=\\\\d*&after=\\\\w*',\n",
       " '/r/analog/search\\\\?q=timestamp%3A1457301454..1456696654&restrict_sr=on&sort=new&syntax=cloudsearch&count=\\\\d*&after=\\\\w*',\n",
       " '/r/analog/search\\\\?after=\\\\w*&count=\\\\d*&q=timestamp%3A1457301454..1456696654&restrict_sr=on&sort=new&syntax=cloudsearch',\n",
       " '/r/analog/search\\\\?sort=new&q=timestamp%3A1456696654..1456091854&restrict_sr=on&syntax=cloudsearch&count=\\\\d*&after=\\\\w*',\n",
       " '/r/analog/search\\\\?q=timestamp%3A1456696654..1456091854&restrict_sr=on&sort=new&syntax=cloudsearch&count=\\\\d*&after=\\\\w*',\n",
       " '/r/analog/search\\\\?after=\\\\w*&count=\\\\d*&q=timestamp%3A1456696654..1456091854&restrict_sr=on&sort=new&syntax=cloudsearch',\n",
       " '/r/analog/search\\\\?sort=new&q=timestamp%3A1456091854..1455487054&restrict_sr=on&syntax=cloudsearch&count=\\\\d*&after=\\\\w*',\n",
       " '/r/analog/search\\\\?q=timestamp%3A1456091854..1455487054&restrict_sr=on&sort=new&syntax=cloudsearch&count=\\\\d*&after=\\\\w*',\n",
       " '/r/analog/search\\\\?after=\\\\w*&count=\\\\d*&q=timestamp%3A1456091854..1455487054&restrict_sr=on&sort=new&syntax=cloudsearch',\n",
       " '/r/analog/search\\\\?sort=new&q=timestamp%3A1455487054..1454882254&restrict_sr=on&syntax=cloudsearch&count=\\\\d*&after=\\\\w*',\n",
       " '/r/analog/search\\\\?q=timestamp%3A1455487054..1454882254&restrict_sr=on&sort=new&syntax=cloudsearch&count=\\\\d*&after=\\\\w*',\n",
       " '/r/analog/search\\\\?after=\\\\w*&count=\\\\d*&q=timestamp%3A1455487054..1454882254&restrict_sr=on&sort=new&syntax=cloudsearch',\n",
       " '/r/analog/search\\\\?sort=new&q=timestamp%3A1454882254..1454277454&restrict_sr=on&syntax=cloudsearch&count=\\\\d*&after=\\\\w*',\n",
       " '/r/analog/search\\\\?q=timestamp%3A1454882254..1454277454&restrict_sr=on&sort=new&syntax=cloudsearch&count=\\\\d*&after=\\\\w*',\n",
       " '/r/analog/search\\\\?after=\\\\w*&count=\\\\d*&q=timestamp%3A1454882254..1454277454&restrict_sr=on&sort=new&syntax=cloudsearch',\n",
       " '/r/analog/search\\\\?sort=new&q=timestamp%3A1454277454..1453672654&restrict_sr=on&syntax=cloudsearch&count=\\\\d*&after=\\\\w*',\n",
       " '/r/analog/search\\\\?q=timestamp%3A1454277454..1453672654&restrict_sr=on&sort=new&syntax=cloudsearch&count=\\\\d*&after=\\\\w*',\n",
       " '/r/analog/search\\\\?after=\\\\w*&count=\\\\d*&q=timestamp%3A1454277454..1453672654&restrict_sr=on&sort=new&syntax=cloudsearch',\n",
       " '/r/analog/search\\\\?sort=new&q=timestamp%3A1453672654..1453067854&restrict_sr=on&syntax=cloudsearch&count=\\\\d*&after=\\\\w*',\n",
       " '/r/analog/search\\\\?q=timestamp%3A1453672654..1453067854&restrict_sr=on&sort=new&syntax=cloudsearch&count=\\\\d*&after=\\\\w*',\n",
       " '/r/analog/search\\\\?after=\\\\w*&count=\\\\d*&q=timestamp%3A1453672654..1453067854&restrict_sr=on&sort=new&syntax=cloudsearch',\n",
       " '/r/analog/search\\\\?sort=new&q=timestamp%3A1453067854..1452463054&restrict_sr=on&syntax=cloudsearch&count=\\\\d*&after=\\\\w*',\n",
       " '/r/analog/search\\\\?q=timestamp%3A1453067854..1452463054&restrict_sr=on&sort=new&syntax=cloudsearch&count=\\\\d*&after=\\\\w*',\n",
       " '/r/analog/search\\\\?after=\\\\w*&count=\\\\d*&q=timestamp%3A1453067854..1452463054&restrict_sr=on&sort=new&syntax=cloudsearch',\n",
       " '/r/analog/search\\\\?sort=new&q=timestamp%3A1452463054..1451858254&restrict_sr=on&syntax=cloudsearch&count=\\\\d*&after=\\\\w*',\n",
       " '/r/analog/search\\\\?q=timestamp%3A1452463054..1451858254&restrict_sr=on&sort=new&syntax=cloudsearch&count=\\\\d*&after=\\\\w*',\n",
       " '/r/analog/search\\\\?after=\\\\w*&count=\\\\d*&q=timestamp%3A1452463054..1451858254&restrict_sr=on&sort=new&syntax=cloudsearch',\n",
       " '/r/analog/search\\\\?sort=new&q=timestamp%3A1451858254..1451253454&restrict_sr=on&syntax=cloudsearch&count=\\\\d*&after=\\\\w*',\n",
       " '/r/analog/search\\\\?q=timestamp%3A1451858254..1451253454&restrict_sr=on&sort=new&syntax=cloudsearch&count=\\\\d*&after=\\\\w*',\n",
       " '/r/analog/search\\\\?after=\\\\w*&count=\\\\d*&q=timestamp%3A1451858254..1451253454&restrict_sr=on&sort=new&syntax=cloudsearch',\n",
       " '/r/analog/search\\\\?sort=new&q=timestamp%3A1451253454..1450648654&restrict_sr=on&syntax=cloudsearch&count=\\\\d*&after=\\\\w*',\n",
       " '/r/analog/search\\\\?q=timestamp%3A1451253454..1450648654&restrict_sr=on&sort=new&syntax=cloudsearch&count=\\\\d*&after=\\\\w*',\n",
       " '/r/analog/search\\\\?after=\\\\w*&count=\\\\d*&q=timestamp%3A1451253454..1450648654&restrict_sr=on&sort=new&syntax=cloudsearch',\n",
       " '/r/analog/search\\\\?sort=new&q=timestamp%3A1450648654..1450043854&restrict_sr=on&syntax=cloudsearch&count=\\\\d*&after=\\\\w*',\n",
       " '/r/analog/search\\\\?q=timestamp%3A1450648654..1450043854&restrict_sr=on&sort=new&syntax=cloudsearch&count=\\\\d*&after=\\\\w*',\n",
       " '/r/analog/search\\\\?after=\\\\w*&count=\\\\d*&q=timestamp%3A1450648654..1450043854&restrict_sr=on&sort=new&syntax=cloudsearch',\n",
       " '/r/analog/search\\\\?sort=new&q=timestamp%3A1450043854..1449439054&restrict_sr=on&syntax=cloudsearch&count=\\\\d*&after=\\\\w*',\n",
       " '/r/analog/search\\\\?q=timestamp%3A1450043854..1449439054&restrict_sr=on&sort=new&syntax=cloudsearch&count=\\\\d*&after=\\\\w*',\n",
       " '/r/analog/search\\\\?after=\\\\w*&count=\\\\d*&q=timestamp%3A1450043854..1449439054&restrict_sr=on&sort=new&syntax=cloudsearch',\n",
       " '/r/analog/search\\\\?sort=new&q=timestamp%3A1449439054..1448834254&restrict_sr=on&syntax=cloudsearch&count=\\\\d*&after=\\\\w*',\n",
       " '/r/analog/search\\\\?q=timestamp%3A1449439054..1448834254&restrict_sr=on&sort=new&syntax=cloudsearch&count=\\\\d*&after=\\\\w*',\n",
       " '/r/analog/search\\\\?after=\\\\w*&count=\\\\d*&q=timestamp%3A1449439054..1448834254&restrict_sr=on&sort=new&syntax=cloudsearch',\n",
       " '/r/analog/search\\\\?sort=new&q=timestamp%3A1448834254..1448229454&restrict_sr=on&syntax=cloudsearch&count=\\\\d*&after=\\\\w*',\n",
       " '/r/analog/search\\\\?q=timestamp%3A1448834254..1448229454&restrict_sr=on&sort=new&syntax=cloudsearch&count=\\\\d*&after=\\\\w*',\n",
       " '/r/analog/search\\\\?after=\\\\w*&count=\\\\d*&q=timestamp%3A1448834254..1448229454&restrict_sr=on&sort=new&syntax=cloudsearch',\n",
       " '/r/analog/search\\\\?sort=new&q=timestamp%3A1448229454..1447624654&restrict_sr=on&syntax=cloudsearch&count=\\\\d*&after=\\\\w*',\n",
       " '/r/analog/search\\\\?q=timestamp%3A1448229454..1447624654&restrict_sr=on&sort=new&syntax=cloudsearch&count=\\\\d*&after=\\\\w*',\n",
       " '/r/analog/search\\\\?after=\\\\w*&count=\\\\d*&q=timestamp%3A1448229454..1447624654&restrict_sr=on&sort=new&syntax=cloudsearch',\n",
       " '/r/analog/search\\\\?sort=new&q=timestamp%3A1447624654..1447019854&restrict_sr=on&syntax=cloudsearch&count=\\\\d*&after=\\\\w*',\n",
       " '/r/analog/search\\\\?q=timestamp%3A1447624654..1447019854&restrict_sr=on&sort=new&syntax=cloudsearch&count=\\\\d*&after=\\\\w*',\n",
       " '/r/analog/search\\\\?after=\\\\w*&count=\\\\d*&q=timestamp%3A1447624654..1447019854&restrict_sr=on&sort=new&syntax=cloudsearch',\n",
       " '/r/analog/search\\\\?sort=new&q=timestamp%3A1447019854..1446415054&restrict_sr=on&syntax=cloudsearch&count=\\\\d*&after=\\\\w*',\n",
       " '/r/analog/search\\\\?q=timestamp%3A1447019854..1446415054&restrict_sr=on&sort=new&syntax=cloudsearch&count=\\\\d*&after=\\\\w*',\n",
       " '/r/analog/search\\\\?after=\\\\w*&count=\\\\d*&q=timestamp%3A1447019854..1446415054&restrict_sr=on&sort=new&syntax=cloudsearch',\n",
       " '/r/analog/search\\\\?sort=new&q=timestamp%3A1446415054..1445810254&restrict_sr=on&syntax=cloudsearch&count=\\\\d*&after=\\\\w*',\n",
       " '/r/analog/search\\\\?q=timestamp%3A1446415054..1445810254&restrict_sr=on&sort=new&syntax=cloudsearch&count=\\\\d*&after=\\\\w*',\n",
       " '/r/analog/search\\\\?after=\\\\w*&count=\\\\d*&q=timestamp%3A1446415054..1445810254&restrict_sr=on&sort=new&syntax=cloudsearch',\n",
       " '/r/analog/search\\\\?sort=new&q=timestamp%3A1445810254..1445205454&restrict_sr=on&syntax=cloudsearch&count=\\\\d*&after=\\\\w*',\n",
       " '/r/analog/search\\\\?q=timestamp%3A1445810254..1445205454&restrict_sr=on&sort=new&syntax=cloudsearch&count=\\\\d*&after=\\\\w*',\n",
       " '/r/analog/search\\\\?after=\\\\w*&count=\\\\d*&q=timestamp%3A1445810254..1445205454&restrict_sr=on&sort=new&syntax=cloudsearch',\n",
       " '/r/analog/search\\\\?sort=new&q=timestamp%3A1445205454..1444600654&restrict_sr=on&syntax=cloudsearch&count=\\\\d*&after=\\\\w*',\n",
       " '/r/analog/search\\\\?q=timestamp%3A1445205454..1444600654&restrict_sr=on&sort=new&syntax=cloudsearch&count=\\\\d*&after=\\\\w*',\n",
       " '/r/analog/search\\\\?after=\\\\w*&count=\\\\d*&q=timestamp%3A1445205454..1444600654&restrict_sr=on&sort=new&syntax=cloudsearch',\n",
       " '/r/analog/search\\\\?sort=new&q=timestamp%3A1444600654..1443995854&restrict_sr=on&syntax=cloudsearch&count=\\\\d*&after=\\\\w*',\n",
       " '/r/analog/search\\\\?q=timestamp%3A1444600654..1443995854&restrict_sr=on&sort=new&syntax=cloudsearch&count=\\\\d*&after=\\\\w*',\n",
       " '/r/analog/search\\\\?after=\\\\w*&count=\\\\d*&q=timestamp%3A1444600654..1443995854&restrict_sr=on&sort=new&syntax=cloudsearch',\n",
       " '/r/analog/search\\\\?sort=new&q=timestamp%3A1443995854..1443391054&restrict_sr=on&syntax=cloudsearch&count=\\\\d*&after=\\\\w*',\n",
       " '/r/analog/search\\\\?q=timestamp%3A1443995854..1443391054&restrict_sr=on&sort=new&syntax=cloudsearch&count=\\\\d*&after=\\\\w*',\n",
       " '/r/analog/search\\\\?after=\\\\w*&count=\\\\d*&q=timestamp%3A1443995854..1443391054&restrict_sr=on&sort=new&syntax=cloudsearch',\n",
       " '/r/analog/search\\\\?sort=new&q=timestamp%3A1443391054..1442786254&restrict_sr=on&syntax=cloudsearch&count=\\\\d*&after=\\\\w*',\n",
       " '/r/analog/search\\\\?q=timestamp%3A1443391054..1442786254&restrict_sr=on&sort=new&syntax=cloudsearch&count=\\\\d*&after=\\\\w*',\n",
       " '/r/analog/search\\\\?after=\\\\w*&count=\\\\d*&q=timestamp%3A1443391054..1442786254&restrict_sr=on&sort=new&syntax=cloudsearch',\n",
       " '/r/analog/search\\\\?sort=new&q=timestamp%3A1442786254..1442181454&restrict_sr=on&syntax=cloudsearch&count=\\\\d*&after=\\\\w*',\n",
       " '/r/analog/search\\\\?q=timestamp%3A1442786254..1442181454&restrict_sr=on&sort=new&syntax=cloudsearch&count=\\\\d*&after=\\\\w*',\n",
       " '/r/analog/search\\\\?after=\\\\w*&count=\\\\d*&q=timestamp%3A1442786254..1442181454&restrict_sr=on&sort=new&syntax=cloudsearch',\n",
       " '/r/analog/search\\\\?sort=new&q=timestamp%3A1442181454..1441576654&restrict_sr=on&syntax=cloudsearch&count=\\\\d*&after=\\\\w*',\n",
       " '/r/analog/search\\\\?q=timestamp%3A1442181454..1441576654&restrict_sr=on&sort=new&syntax=cloudsearch&count=\\\\d*&after=\\\\w*',\n",
       " '/r/analog/search\\\\?after=\\\\w*&count=\\\\d*&q=timestamp%3A1442181454..1441576654&restrict_sr=on&sort=new&syntax=cloudsearch',\n",
       " '/r/analog/search\\\\?sort=new&q=timestamp%3A1441576654..1440971854&restrict_sr=on&syntax=cloudsearch&count=\\\\d*&after=\\\\w*',\n",
       " '/r/analog/search\\\\?q=timestamp%3A1441576654..1440971854&restrict_sr=on&sort=new&syntax=cloudsearch&count=\\\\d*&after=\\\\w*',\n",
       " '/r/analog/search\\\\?after=\\\\w*&count=\\\\d*&q=timestamp%3A1441576654..1440971854&restrict_sr=on&sort=new&syntax=cloudsearch',\n",
       " '/r/analog/search\\\\?sort=new&q=timestamp%3A1440971854..1440367054&restrict_sr=on&syntax=cloudsearch&count=\\\\d*&after=\\\\w*',\n",
       " '/r/analog/search\\\\?q=timestamp%3A1440971854..1440367054&restrict_sr=on&sort=new&syntax=cloudsearch&count=\\\\d*&after=\\\\w*',\n",
       " '/r/analog/search\\\\?after=\\\\w*&count=\\\\d*&q=timestamp%3A1440971854..1440367054&restrict_sr=on&sort=new&syntax=cloudsearch',\n",
       " '/r/analog/search\\\\?sort=new&q=timestamp%3A1440367054..1439762254&restrict_sr=on&syntax=cloudsearch&count=\\\\d*&after=\\\\w*',\n",
       " '/r/analog/search\\\\?q=timestamp%3A1440367054..1439762254&restrict_sr=on&sort=new&syntax=cloudsearch&count=\\\\d*&after=\\\\w*',\n",
       " '/r/analog/search\\\\?after=\\\\w*&count=\\\\d*&q=timestamp%3A1440367054..1439762254&restrict_sr=on&sort=new&syntax=cloudsearch',\n",
       " '/r/analog/search\\\\?sort=new&q=timestamp%3A1439762254..1439157454&restrict_sr=on&syntax=cloudsearch&count=\\\\d*&after=\\\\w*',\n",
       " '/r/analog/search\\\\?q=timestamp%3A1439762254..1439157454&restrict_sr=on&sort=new&syntax=cloudsearch&count=\\\\d*&after=\\\\w*',\n",
       " '/r/analog/search\\\\?after=\\\\w*&count=\\\\d*&q=timestamp%3A1439762254..1439157454&restrict_sr=on&sort=new&syntax=cloudsearch',\n",
       " '/r/analog/search\\\\?sort=new&q=timestamp%3A1439157454..1438552654&restrict_sr=on&syntax=cloudsearch&count=\\\\d*&after=\\\\w*',\n",
       " '/r/analog/search\\\\?q=timestamp%3A1439157454..1438552654&restrict_sr=on&sort=new&syntax=cloudsearch&count=\\\\d*&after=\\\\w*',\n",
       " '/r/analog/search\\\\?after=\\\\w*&count=\\\\d*&q=timestamp%3A1439157454..1438552654&restrict_sr=on&sort=new&syntax=cloudsearch',\n",
       " '/r/analog/search\\\\?sort=new&q=timestamp%3A1438552654..1437947854&restrict_sr=on&syntax=cloudsearch&count=\\\\d*&after=\\\\w*',\n",
       " '/r/analog/search\\\\?q=timestamp%3A1438552654..1437947854&restrict_sr=on&sort=new&syntax=cloudsearch&count=\\\\d*&after=\\\\w*',\n",
       " '/r/analog/search\\\\?after=\\\\w*&count=\\\\d*&q=timestamp%3A1438552654..1437947854&restrict_sr=on&sort=new&syntax=cloudsearch',\n",
       " '/r/analog/search\\\\?sort=new&q=timestamp%3A1437947854..1437343054&restrict_sr=on&syntax=cloudsearch&count=\\\\d*&after=\\\\w*',\n",
       " '/r/analog/search\\\\?q=timestamp%3A1437947854..1437343054&restrict_sr=on&sort=new&syntax=cloudsearch&count=\\\\d*&after=\\\\w*',\n",
       " '/r/analog/search\\\\?after=\\\\w*&count=\\\\d*&q=timestamp%3A1437947854..1437343054&restrict_sr=on&sort=new&syntax=cloudsearch',\n",
       " '/r/analog/search\\\\?sort=new&q=timestamp%3A1437343054..1436738254&restrict_sr=on&syntax=cloudsearch&count=\\\\d*&after=\\\\w*',\n",
       " '/r/analog/search\\\\?q=timestamp%3A1437343054..1436738254&restrict_sr=on&sort=new&syntax=cloudsearch&count=\\\\d*&after=\\\\w*',\n",
       " '/r/analog/search\\\\?after=\\\\w*&count=\\\\d*&q=timestamp%3A1437343054..1436738254&restrict_sr=on&sort=new&syntax=cloudsearch']"
      ]
     },
     "execution_count": 78,
     "metadata": {},
     "output_type": "execute_result"
    }
   ],
   "source": [
    "start_url_gen()[1]"
   ]
  },
  {
   "cell_type": "code",
   "execution_count": null,
   "metadata": {
    "collapsed": true
   },
   "outputs": [],
   "source": []
  }
 ],
 "metadata": {
  "kernelspec": {
   "display_name": "Python 2",
   "language": "python",
   "name": "python2"
  },
  "language_info": {
   "codemirror_mode": {
    "name": "ipython",
    "version": 2
   },
   "file_extension": ".py",
   "mimetype": "text/x-python",
   "name": "python",
   "nbconvert_exporter": "python",
   "pygments_lexer": "ipython2",
   "version": "2.7.11"
  }
 },
 "nbformat": 4,
 "nbformat_minor": 0
}
