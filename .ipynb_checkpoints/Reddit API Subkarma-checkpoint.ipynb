{
 "cells": [
  {
   "cell_type": "code",
   "execution_count": 11,
   "metadata": {
    "collapsed": false
   },
   "outputs": [],
   "source": [
    "import praw\n",
    "user_agent = 'Karma Breakdown by /u/compassdestroyer'\n",
    "r = praw.Reddit(user_agent=user_agent)"
   ]
  },
  {
   "cell_type": "code",
   "execution_count": 12,
   "metadata": {
    "collapsed": true
   },
   "outputs": [],
   "source": [
    "user_name = \"compassdestroyer\"\n",
    "user = r.get_redditor(user_name)"
   ]
  },
  {
   "cell_type": "code",
   "execution_count": 13,
   "metadata": {
    "collapsed": true
   },
   "outputs": [],
   "source": [
    "thing_limit = 10\n",
    "gen = user.get_submitted(limit=thing_limit)"
   ]
  },
  {
   "cell_type": "code",
   "execution_count": 14,
   "metadata": {
    "collapsed": true
   },
   "outputs": [],
   "source": [
    "karma_by_subreddit = {} #empty dict\n",
    "for thing in gen: #for each submission\n",
    "    subreddit = thing.subreddit.display_name #get the subreddit name\n",
    "    karma_by_subreddit[subreddit] = (karma_by_subreddit.get(subreddit, 0) + thing.score) #write subreddit as key\n",
    "    #and assign value = what is already contained + thing.score (submission net score)"
   ]
  },
  {
   "cell_type": "code",
   "execution_count": 17,
   "metadata": {
    "collapsed": false
   },
   "outputs": [
    {
     "name": "stdout",
     "output_type": "stream",
     "text": [
      "{u'analog': 106}\n"
     ]
    }
   ],
   "source": [
    "print karma_by_subreddit"
   ]
  },
  {
   "cell_type": "code",
   "execution_count": null,
   "metadata": {
    "collapsed": true
   },
   "outputs": [],
   "source": []
  }
 ],
 "metadata": {
  "kernelspec": {
   "display_name": "Python 2",
   "language": "python",
   "name": "python2"
  },
  "language_info": {
   "codemirror_mode": {
    "name": "ipython",
    "version": 2
   },
   "file_extension": ".py",
   "mimetype": "text/x-python",
   "name": "python",
   "nbconvert_exporter": "python",
   "pygments_lexer": "ipython2",
   "version": "2.7.11"
  }
 },
 "nbformat": 4,
 "nbformat_minor": 0
}
