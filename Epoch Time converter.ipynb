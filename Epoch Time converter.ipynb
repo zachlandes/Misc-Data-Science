{
 "cells": [
  {
   "cell_type": "code",
   "execution_count": 2,
   "metadata": {
    "collapsed": false
   },
   "outputs": [
    {
     "name": "stdout",
     "output_type": "stream",
     "text": [
      "time.struct_time(tm_year=2016, tm_mon=5, tm_mday=2, tm_hour=16, tm_min=40, tm_sec=40, tm_wday=0, tm_yday=123, tm_isdst=0)\n"
     ]
    }
   ],
   "source": [
    "import time \n",
    "\n",
    "rdate = 'Mon May 2 16:40:40 2016 UTC'\n",
    "\n",
    "pattern = \"%a %B %d %H:%M:%S %Y %Z\"\n",
    "\n",
    "print time.strptime(rdate, pattern)\n",
    "epoch = int(time.mktime(time.strptime(rdate, pattern))) #what time zone is mktime\n",
    "print epoch\n"
   ]
  }
 ],
 "metadata": {
  "kernelspec": {
   "display_name": "Python 2",
   "language": "python",
   "name": "python2"
  },
  "language_info": {
   "codemirror_mode": {
    "name": "ipython",
    "version": 2
   },
   "file_extension": ".py",
   "mimetype": "text/x-python",
   "name": "python",
   "nbconvert_exporter": "python",
   "pygments_lexer": "ipython2",
   "version": "2.7.11"
  }
 },
 "nbformat": 4,
 "nbformat_minor": 0
}
