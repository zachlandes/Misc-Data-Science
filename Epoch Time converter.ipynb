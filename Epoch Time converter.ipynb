{
 "cells": [
  {
   "cell_type": "code",
   "execution_count": 1,
   "metadata": {
    "collapsed": false
   },
   "outputs": [
    {
     "name": "stdout",
     "output_type": "stream",
     "text": [
      "time.struct_time(tm_year=2016, tm_mon=5, tm_mday=2, tm_hour=16, tm_min=40, tm_sec=40, tm_wday=0, tm_yday=123, tm_isdst=0)\n"
     ]
    }
   ],
   "source": [
    "import time \n",
    "\n",
    "rdate = 'Mon May 2 16:40:40 2016 UTC'\n",
    "\n",
    "pattern = \"%a %B %d %H:%M:%S %Y %Z\"\n",
    "\n",
    "print time.strptime(rdate, pattern)\n",
    "\n",
    "def epoch_conv(rdate):\n",
    "    epoch = int(time.mktime(time.strptime(rdate, pattern))) #mktime takes a time in LOCAL TIME\n",
    "    return epoch\n"
   ]
  },
  {
   "cell_type": "code",
   "execution_count": 2,
   "metadata": {
    "collapsed": false
   },
   "outputs": [
    {
     "name": "stdout",
     "output_type": "stream",
     "text": [
      "2016-07-27 04:09:06.553303\n"
     ]
    }
   ],
   "source": [
    "import datetime\n",
    "a = datetime.datetime.utcnow()\n",
    "print a"
   ]
  },
  {
   "cell_type": "code",
   "execution_count": 3,
   "metadata": {
    "collapsed": false
   },
   "outputs": [
    {
     "name": "stdout",
     "output_type": "stream",
     "text": [
      "2016-07-20 04:09:06.553303\n"
     ]
    }
   ],
   "source": [
    "a = a - datetime.timedelta(weeks=1)\n",
    "print a"
   ]
  },
  {
   "cell_type": "code",
   "execution_count": 4,
   "metadata": {
    "collapsed": true
   },
   "outputs": [],
   "source": [
    "import datetime\n",
    "import calendar\n",
    "\n",
    "def epoch_conv2(rdate):                             #converts utc timestamps to unix epoch \n",
    "    epoch = calendar.timegm(rdate.timetuple())\n",
    "    return epoch\n",
    "\n",
    "def url_frmt(start_date, end_date):\n",
    "    url = 'https://www.reddit.com/r/analog/search?sort=new&q=timestamp%3A'+'{}'.format(str(start_date))+'..'+'{}'.format(str(end_date))+'&restrict_sr=on&syntax=cloudsearch' \n",
    "    return url\n",
    "def rule_frmt(start_date, end_date):\n",
    "    r1 = '/r/analog/search\\?sort=new&q=timestamp%3A'+'{}'.format(str(start_date))+'..'+'{}'.format(str(end_date))+'&restrict_sr=on&syntax=cloudsearch&count=\\d*&after=\\w*'\n",
    "    r2 = '/r/analog/search\\?q=timestamp%3A'+'{}'.format(str(start_date))+'..'+'{}'.format(str(end_date))+'&restrict_sr=on&sort=new&syntax=cloudsearch&count=\\d*&after=\\w*'\n",
    "    r3 = '/r/analog/search\\?after=\\w*&count=\\d*&q=timestamp%3A'+'{}'.format(str(start_date))+'..'+'{}'.format(str(end_date))+'&restrict_sr=on&sort=new&syntax=cloudsearch'\n",
    "    return [r1, r2, r3]\n",
    "\n",
    "def start_url_gen(sdate = datetime.datetime.utcnow() - datetime.timedelta(weeks=2), num_weeks = 51):\n",
    "    sdate = sdate\n",
    "    num_weeks = num_weeks\n",
    "    end_date = sdate - datetime.timedelta(weeks=1)\n",
    "    start_urls = [url_frmt(epoch_conv2(sdate), epoch_conv2(end_date))]\n",
    "    rule_urls = rule_frmt(epoch_conv2(sdate), epoch_conv2(end_date))\n",
    "    results = []\n",
    "    while num_weeks:                                 #this ticks down to 0 and exits because 0 is False\n",
    "        sdate = sdate - datetime.timedelta(weeks=1)  #subtract a week from the last stored datetime value\n",
    "        end_date = end_date - datetime.timedelta(weeks=1)\n",
    "        start_urls.append(url_frmt(epoch_conv2(sdate), epoch_conv2(end_date)))        #add the new value to our list of urls\n",
    "        rule_urls.extend(rule_frmt(epoch_conv2(sdate), epoch_conv2(end_date)))\n",
    "        num_weeks -= 1                               #subtract one from number of weeks left to iterate through\n",
    "    results = [start_urls, rule_urls]\n",
    "    return results"
   ]
  },
  {
   "cell_type": "code",
   "execution_count": 7,
   "metadata": {
    "collapsed": false
   },
   "outputs": [
    {
     "data": {
      "text/plain": [
       "['/r/analog/search\\\\?sort=new&q=timestamp%3A1468382946..1467778146&restrict_sr=on&syntax=cloudsearch&count=\\\\d*&after=\\\\w*',\n",
       " '/r/analog/search\\\\?q=timestamp%3A1468382946..1467778146&restrict_sr=on&sort=new&syntax=cloudsearch&count=\\\\d*&after=\\\\w*',\n",
       " '/r/analog/search\\\\?after=\\\\w*&count=\\\\d*&q=timestamp%3A1468382946..1467778146&restrict_sr=on&sort=new&syntax=cloudsearch',\n",
       " '/r/analog/search\\\\?sort=new&q=timestamp%3A1467778146..1467173346&restrict_sr=on&syntax=cloudsearch&count=\\\\d*&after=\\\\w*',\n",
       " '/r/analog/search\\\\?q=timestamp%3A1467778146..1467173346&restrict_sr=on&sort=new&syntax=cloudsearch&count=\\\\d*&after=\\\\w*',\n",
       " '/r/analog/search\\\\?after=\\\\w*&count=\\\\d*&q=timestamp%3A1467778146..1467173346&restrict_sr=on&sort=new&syntax=cloudsearch',\n",
       " '/r/analog/search\\\\?sort=new&q=timestamp%3A1467173346..1466568546&restrict_sr=on&syntax=cloudsearch&count=\\\\d*&after=\\\\w*',\n",
       " '/r/analog/search\\\\?q=timestamp%3A1467173346..1466568546&restrict_sr=on&sort=new&syntax=cloudsearch&count=\\\\d*&after=\\\\w*',\n",
       " '/r/analog/search\\\\?after=\\\\w*&count=\\\\d*&q=timestamp%3A1467173346..1466568546&restrict_sr=on&sort=new&syntax=cloudsearch',\n",
       " '/r/analog/search\\\\?sort=new&q=timestamp%3A1466568546..1465963746&restrict_sr=on&syntax=cloudsearch&count=\\\\d*&after=\\\\w*',\n",
       " '/r/analog/search\\\\?q=timestamp%3A1466568546..1465963746&restrict_sr=on&sort=new&syntax=cloudsearch&count=\\\\d*&after=\\\\w*',\n",
       " '/r/analog/search\\\\?after=\\\\w*&count=\\\\d*&q=timestamp%3A1466568546..1465963746&restrict_sr=on&sort=new&syntax=cloudsearch',\n",
       " '/r/analog/search\\\\?sort=new&q=timestamp%3A1465963746..1465358946&restrict_sr=on&syntax=cloudsearch&count=\\\\d*&after=\\\\w*',\n",
       " '/r/analog/search\\\\?q=timestamp%3A1465963746..1465358946&restrict_sr=on&sort=new&syntax=cloudsearch&count=\\\\d*&after=\\\\w*',\n",
       " '/r/analog/search\\\\?after=\\\\w*&count=\\\\d*&q=timestamp%3A1465963746..1465358946&restrict_sr=on&sort=new&syntax=cloudsearch',\n",
       " '/r/analog/search\\\\?sort=new&q=timestamp%3A1465358946..1464754146&restrict_sr=on&syntax=cloudsearch&count=\\\\d*&after=\\\\w*',\n",
       " '/r/analog/search\\\\?q=timestamp%3A1465358946..1464754146&restrict_sr=on&sort=new&syntax=cloudsearch&count=\\\\d*&after=\\\\w*',\n",
       " '/r/analog/search\\\\?after=\\\\w*&count=\\\\d*&q=timestamp%3A1465358946..1464754146&restrict_sr=on&sort=new&syntax=cloudsearch',\n",
       " '/r/analog/search\\\\?sort=new&q=timestamp%3A1464754146..1464149346&restrict_sr=on&syntax=cloudsearch&count=\\\\d*&after=\\\\w*',\n",
       " '/r/analog/search\\\\?q=timestamp%3A1464754146..1464149346&restrict_sr=on&sort=new&syntax=cloudsearch&count=\\\\d*&after=\\\\w*',\n",
       " '/r/analog/search\\\\?after=\\\\w*&count=\\\\d*&q=timestamp%3A1464754146..1464149346&restrict_sr=on&sort=new&syntax=cloudsearch',\n",
       " '/r/analog/search\\\\?sort=new&q=timestamp%3A1464149346..1463544546&restrict_sr=on&syntax=cloudsearch&count=\\\\d*&after=\\\\w*',\n",
       " '/r/analog/search\\\\?q=timestamp%3A1464149346..1463544546&restrict_sr=on&sort=new&syntax=cloudsearch&count=\\\\d*&after=\\\\w*',\n",
       " '/r/analog/search\\\\?after=\\\\w*&count=\\\\d*&q=timestamp%3A1464149346..1463544546&restrict_sr=on&sort=new&syntax=cloudsearch',\n",
       " '/r/analog/search\\\\?sort=new&q=timestamp%3A1463544546..1462939746&restrict_sr=on&syntax=cloudsearch&count=\\\\d*&after=\\\\w*',\n",
       " '/r/analog/search\\\\?q=timestamp%3A1463544546..1462939746&restrict_sr=on&sort=new&syntax=cloudsearch&count=\\\\d*&after=\\\\w*',\n",
       " '/r/analog/search\\\\?after=\\\\w*&count=\\\\d*&q=timestamp%3A1463544546..1462939746&restrict_sr=on&sort=new&syntax=cloudsearch',\n",
       " '/r/analog/search\\\\?sort=new&q=timestamp%3A1462939746..1462334946&restrict_sr=on&syntax=cloudsearch&count=\\\\d*&after=\\\\w*',\n",
       " '/r/analog/search\\\\?q=timestamp%3A1462939746..1462334946&restrict_sr=on&sort=new&syntax=cloudsearch&count=\\\\d*&after=\\\\w*',\n",
       " '/r/analog/search\\\\?after=\\\\w*&count=\\\\d*&q=timestamp%3A1462939746..1462334946&restrict_sr=on&sort=new&syntax=cloudsearch',\n",
       " '/r/analog/search\\\\?sort=new&q=timestamp%3A1462334946..1461730146&restrict_sr=on&syntax=cloudsearch&count=\\\\d*&after=\\\\w*',\n",
       " '/r/analog/search\\\\?q=timestamp%3A1462334946..1461730146&restrict_sr=on&sort=new&syntax=cloudsearch&count=\\\\d*&after=\\\\w*',\n",
       " '/r/analog/search\\\\?after=\\\\w*&count=\\\\d*&q=timestamp%3A1462334946..1461730146&restrict_sr=on&sort=new&syntax=cloudsearch',\n",
       " '/r/analog/search\\\\?sort=new&q=timestamp%3A1461730146..1461125346&restrict_sr=on&syntax=cloudsearch&count=\\\\d*&after=\\\\w*',\n",
       " '/r/analog/search\\\\?q=timestamp%3A1461730146..1461125346&restrict_sr=on&sort=new&syntax=cloudsearch&count=\\\\d*&after=\\\\w*',\n",
       " '/r/analog/search\\\\?after=\\\\w*&count=\\\\d*&q=timestamp%3A1461730146..1461125346&restrict_sr=on&sort=new&syntax=cloudsearch',\n",
       " '/r/analog/search\\\\?sort=new&q=timestamp%3A1461125346..1460520546&restrict_sr=on&syntax=cloudsearch&count=\\\\d*&after=\\\\w*',\n",
       " '/r/analog/search\\\\?q=timestamp%3A1461125346..1460520546&restrict_sr=on&sort=new&syntax=cloudsearch&count=\\\\d*&after=\\\\w*',\n",
       " '/r/analog/search\\\\?after=\\\\w*&count=\\\\d*&q=timestamp%3A1461125346..1460520546&restrict_sr=on&sort=new&syntax=cloudsearch',\n",
       " '/r/analog/search\\\\?sort=new&q=timestamp%3A1460520546..1459915746&restrict_sr=on&syntax=cloudsearch&count=\\\\d*&after=\\\\w*',\n",
       " '/r/analog/search\\\\?q=timestamp%3A1460520546..1459915746&restrict_sr=on&sort=new&syntax=cloudsearch&count=\\\\d*&after=\\\\w*',\n",
       " '/r/analog/search\\\\?after=\\\\w*&count=\\\\d*&q=timestamp%3A1460520546..1459915746&restrict_sr=on&sort=new&syntax=cloudsearch',\n",
       " '/r/analog/search\\\\?sort=new&q=timestamp%3A1459915746..1459310946&restrict_sr=on&syntax=cloudsearch&count=\\\\d*&after=\\\\w*',\n",
       " '/r/analog/search\\\\?q=timestamp%3A1459915746..1459310946&restrict_sr=on&sort=new&syntax=cloudsearch&count=\\\\d*&after=\\\\w*',\n",
       " '/r/analog/search\\\\?after=\\\\w*&count=\\\\d*&q=timestamp%3A1459915746..1459310946&restrict_sr=on&sort=new&syntax=cloudsearch',\n",
       " '/r/analog/search\\\\?sort=new&q=timestamp%3A1459310946..1458706146&restrict_sr=on&syntax=cloudsearch&count=\\\\d*&after=\\\\w*',\n",
       " '/r/analog/search\\\\?q=timestamp%3A1459310946..1458706146&restrict_sr=on&sort=new&syntax=cloudsearch&count=\\\\d*&after=\\\\w*',\n",
       " '/r/analog/search\\\\?after=\\\\w*&count=\\\\d*&q=timestamp%3A1459310946..1458706146&restrict_sr=on&sort=new&syntax=cloudsearch',\n",
       " '/r/analog/search\\\\?sort=new&q=timestamp%3A1458706146..1458101346&restrict_sr=on&syntax=cloudsearch&count=\\\\d*&after=\\\\w*',\n",
       " '/r/analog/search\\\\?q=timestamp%3A1458706146..1458101346&restrict_sr=on&sort=new&syntax=cloudsearch&count=\\\\d*&after=\\\\w*',\n",
       " '/r/analog/search\\\\?after=\\\\w*&count=\\\\d*&q=timestamp%3A1458706146..1458101346&restrict_sr=on&sort=new&syntax=cloudsearch',\n",
       " '/r/analog/search\\\\?sort=new&q=timestamp%3A1458101346..1457496546&restrict_sr=on&syntax=cloudsearch&count=\\\\d*&after=\\\\w*',\n",
       " '/r/analog/search\\\\?q=timestamp%3A1458101346..1457496546&restrict_sr=on&sort=new&syntax=cloudsearch&count=\\\\d*&after=\\\\w*',\n",
       " '/r/analog/search\\\\?after=\\\\w*&count=\\\\d*&q=timestamp%3A1458101346..1457496546&restrict_sr=on&sort=new&syntax=cloudsearch',\n",
       " '/r/analog/search\\\\?sort=new&q=timestamp%3A1457496546..1456891746&restrict_sr=on&syntax=cloudsearch&count=\\\\d*&after=\\\\w*',\n",
       " '/r/analog/search\\\\?q=timestamp%3A1457496546..1456891746&restrict_sr=on&sort=new&syntax=cloudsearch&count=\\\\d*&after=\\\\w*',\n",
       " '/r/analog/search\\\\?after=\\\\w*&count=\\\\d*&q=timestamp%3A1457496546..1456891746&restrict_sr=on&sort=new&syntax=cloudsearch',\n",
       " '/r/analog/search\\\\?sort=new&q=timestamp%3A1456891746..1456286946&restrict_sr=on&syntax=cloudsearch&count=\\\\d*&after=\\\\w*',\n",
       " '/r/analog/search\\\\?q=timestamp%3A1456891746..1456286946&restrict_sr=on&sort=new&syntax=cloudsearch&count=\\\\d*&after=\\\\w*',\n",
       " '/r/analog/search\\\\?after=\\\\w*&count=\\\\d*&q=timestamp%3A1456891746..1456286946&restrict_sr=on&sort=new&syntax=cloudsearch',\n",
       " '/r/analog/search\\\\?sort=new&q=timestamp%3A1456286946..1455682146&restrict_sr=on&syntax=cloudsearch&count=\\\\d*&after=\\\\w*',\n",
       " '/r/analog/search\\\\?q=timestamp%3A1456286946..1455682146&restrict_sr=on&sort=new&syntax=cloudsearch&count=\\\\d*&after=\\\\w*',\n",
       " '/r/analog/search\\\\?after=\\\\w*&count=\\\\d*&q=timestamp%3A1456286946..1455682146&restrict_sr=on&sort=new&syntax=cloudsearch',\n",
       " '/r/analog/search\\\\?sort=new&q=timestamp%3A1455682146..1455077346&restrict_sr=on&syntax=cloudsearch&count=\\\\d*&after=\\\\w*',\n",
       " '/r/analog/search\\\\?q=timestamp%3A1455682146..1455077346&restrict_sr=on&sort=new&syntax=cloudsearch&count=\\\\d*&after=\\\\w*',\n",
       " '/r/analog/search\\\\?after=\\\\w*&count=\\\\d*&q=timestamp%3A1455682146..1455077346&restrict_sr=on&sort=new&syntax=cloudsearch',\n",
       " '/r/analog/search\\\\?sort=new&q=timestamp%3A1455077346..1454472546&restrict_sr=on&syntax=cloudsearch&count=\\\\d*&after=\\\\w*',\n",
       " '/r/analog/search\\\\?q=timestamp%3A1455077346..1454472546&restrict_sr=on&sort=new&syntax=cloudsearch&count=\\\\d*&after=\\\\w*',\n",
       " '/r/analog/search\\\\?after=\\\\w*&count=\\\\d*&q=timestamp%3A1455077346..1454472546&restrict_sr=on&sort=new&syntax=cloudsearch',\n",
       " '/r/analog/search\\\\?sort=new&q=timestamp%3A1454472546..1453867746&restrict_sr=on&syntax=cloudsearch&count=\\\\d*&after=\\\\w*',\n",
       " '/r/analog/search\\\\?q=timestamp%3A1454472546..1453867746&restrict_sr=on&sort=new&syntax=cloudsearch&count=\\\\d*&after=\\\\w*',\n",
       " '/r/analog/search\\\\?after=\\\\w*&count=\\\\d*&q=timestamp%3A1454472546..1453867746&restrict_sr=on&sort=new&syntax=cloudsearch',\n",
       " '/r/analog/search\\\\?sort=new&q=timestamp%3A1453867746..1453262946&restrict_sr=on&syntax=cloudsearch&count=\\\\d*&after=\\\\w*',\n",
       " '/r/analog/search\\\\?q=timestamp%3A1453867746..1453262946&restrict_sr=on&sort=new&syntax=cloudsearch&count=\\\\d*&after=\\\\w*',\n",
       " '/r/analog/search\\\\?after=\\\\w*&count=\\\\d*&q=timestamp%3A1453867746..1453262946&restrict_sr=on&sort=new&syntax=cloudsearch',\n",
       " '/r/analog/search\\\\?sort=new&q=timestamp%3A1453262946..1452658146&restrict_sr=on&syntax=cloudsearch&count=\\\\d*&after=\\\\w*',\n",
       " '/r/analog/search\\\\?q=timestamp%3A1453262946..1452658146&restrict_sr=on&sort=new&syntax=cloudsearch&count=\\\\d*&after=\\\\w*',\n",
       " '/r/analog/search\\\\?after=\\\\w*&count=\\\\d*&q=timestamp%3A1453262946..1452658146&restrict_sr=on&sort=new&syntax=cloudsearch',\n",
       " '/r/analog/search\\\\?sort=new&q=timestamp%3A1452658146..1452053346&restrict_sr=on&syntax=cloudsearch&count=\\\\d*&after=\\\\w*',\n",
       " '/r/analog/search\\\\?q=timestamp%3A1452658146..1452053346&restrict_sr=on&sort=new&syntax=cloudsearch&count=\\\\d*&after=\\\\w*',\n",
       " '/r/analog/search\\\\?after=\\\\w*&count=\\\\d*&q=timestamp%3A1452658146..1452053346&restrict_sr=on&sort=new&syntax=cloudsearch',\n",
       " '/r/analog/search\\\\?sort=new&q=timestamp%3A1452053346..1451448546&restrict_sr=on&syntax=cloudsearch&count=\\\\d*&after=\\\\w*',\n",
       " '/r/analog/search\\\\?q=timestamp%3A1452053346..1451448546&restrict_sr=on&sort=new&syntax=cloudsearch&count=\\\\d*&after=\\\\w*',\n",
       " '/r/analog/search\\\\?after=\\\\w*&count=\\\\d*&q=timestamp%3A1452053346..1451448546&restrict_sr=on&sort=new&syntax=cloudsearch',\n",
       " '/r/analog/search\\\\?sort=new&q=timestamp%3A1451448546..1450843746&restrict_sr=on&syntax=cloudsearch&count=\\\\d*&after=\\\\w*',\n",
       " '/r/analog/search\\\\?q=timestamp%3A1451448546..1450843746&restrict_sr=on&sort=new&syntax=cloudsearch&count=\\\\d*&after=\\\\w*',\n",
       " '/r/analog/search\\\\?after=\\\\w*&count=\\\\d*&q=timestamp%3A1451448546..1450843746&restrict_sr=on&sort=new&syntax=cloudsearch',\n",
       " '/r/analog/search\\\\?sort=new&q=timestamp%3A1450843746..1450238946&restrict_sr=on&syntax=cloudsearch&count=\\\\d*&after=\\\\w*',\n",
       " '/r/analog/search\\\\?q=timestamp%3A1450843746..1450238946&restrict_sr=on&sort=new&syntax=cloudsearch&count=\\\\d*&after=\\\\w*',\n",
       " '/r/analog/search\\\\?after=\\\\w*&count=\\\\d*&q=timestamp%3A1450843746..1450238946&restrict_sr=on&sort=new&syntax=cloudsearch',\n",
       " '/r/analog/search\\\\?sort=new&q=timestamp%3A1450238946..1449634146&restrict_sr=on&syntax=cloudsearch&count=\\\\d*&after=\\\\w*',\n",
       " '/r/analog/search\\\\?q=timestamp%3A1450238946..1449634146&restrict_sr=on&sort=new&syntax=cloudsearch&count=\\\\d*&after=\\\\w*',\n",
       " '/r/analog/search\\\\?after=\\\\w*&count=\\\\d*&q=timestamp%3A1450238946..1449634146&restrict_sr=on&sort=new&syntax=cloudsearch',\n",
       " '/r/analog/search\\\\?sort=new&q=timestamp%3A1449634146..1449029346&restrict_sr=on&syntax=cloudsearch&count=\\\\d*&after=\\\\w*',\n",
       " '/r/analog/search\\\\?q=timestamp%3A1449634146..1449029346&restrict_sr=on&sort=new&syntax=cloudsearch&count=\\\\d*&after=\\\\w*',\n",
       " '/r/analog/search\\\\?after=\\\\w*&count=\\\\d*&q=timestamp%3A1449634146..1449029346&restrict_sr=on&sort=new&syntax=cloudsearch',\n",
       " '/r/analog/search\\\\?sort=new&q=timestamp%3A1449029346..1448424546&restrict_sr=on&syntax=cloudsearch&count=\\\\d*&after=\\\\w*',\n",
       " '/r/analog/search\\\\?q=timestamp%3A1449029346..1448424546&restrict_sr=on&sort=new&syntax=cloudsearch&count=\\\\d*&after=\\\\w*',\n",
       " '/r/analog/search\\\\?after=\\\\w*&count=\\\\d*&q=timestamp%3A1449029346..1448424546&restrict_sr=on&sort=new&syntax=cloudsearch',\n",
       " '/r/analog/search\\\\?sort=new&q=timestamp%3A1448424546..1447819746&restrict_sr=on&syntax=cloudsearch&count=\\\\d*&after=\\\\w*',\n",
       " '/r/analog/search\\\\?q=timestamp%3A1448424546..1447819746&restrict_sr=on&sort=new&syntax=cloudsearch&count=\\\\d*&after=\\\\w*',\n",
       " '/r/analog/search\\\\?after=\\\\w*&count=\\\\d*&q=timestamp%3A1448424546..1447819746&restrict_sr=on&sort=new&syntax=cloudsearch',\n",
       " '/r/analog/search\\\\?sort=new&q=timestamp%3A1447819746..1447214946&restrict_sr=on&syntax=cloudsearch&count=\\\\d*&after=\\\\w*',\n",
       " '/r/analog/search\\\\?q=timestamp%3A1447819746..1447214946&restrict_sr=on&sort=new&syntax=cloudsearch&count=\\\\d*&after=\\\\w*',\n",
       " '/r/analog/search\\\\?after=\\\\w*&count=\\\\d*&q=timestamp%3A1447819746..1447214946&restrict_sr=on&sort=new&syntax=cloudsearch',\n",
       " '/r/analog/search\\\\?sort=new&q=timestamp%3A1447214946..1446610146&restrict_sr=on&syntax=cloudsearch&count=\\\\d*&after=\\\\w*',\n",
       " '/r/analog/search\\\\?q=timestamp%3A1447214946..1446610146&restrict_sr=on&sort=new&syntax=cloudsearch&count=\\\\d*&after=\\\\w*',\n",
       " '/r/analog/search\\\\?after=\\\\w*&count=\\\\d*&q=timestamp%3A1447214946..1446610146&restrict_sr=on&sort=new&syntax=cloudsearch',\n",
       " '/r/analog/search\\\\?sort=new&q=timestamp%3A1446610146..1446005346&restrict_sr=on&syntax=cloudsearch&count=\\\\d*&after=\\\\w*',\n",
       " '/r/analog/search\\\\?q=timestamp%3A1446610146..1446005346&restrict_sr=on&sort=new&syntax=cloudsearch&count=\\\\d*&after=\\\\w*',\n",
       " '/r/analog/search\\\\?after=\\\\w*&count=\\\\d*&q=timestamp%3A1446610146..1446005346&restrict_sr=on&sort=new&syntax=cloudsearch',\n",
       " '/r/analog/search\\\\?sort=new&q=timestamp%3A1446005346..1445400546&restrict_sr=on&syntax=cloudsearch&count=\\\\d*&after=\\\\w*',\n",
       " '/r/analog/search\\\\?q=timestamp%3A1446005346..1445400546&restrict_sr=on&sort=new&syntax=cloudsearch&count=\\\\d*&after=\\\\w*',\n",
       " '/r/analog/search\\\\?after=\\\\w*&count=\\\\d*&q=timestamp%3A1446005346..1445400546&restrict_sr=on&sort=new&syntax=cloudsearch',\n",
       " '/r/analog/search\\\\?sort=new&q=timestamp%3A1445400546..1444795746&restrict_sr=on&syntax=cloudsearch&count=\\\\d*&after=\\\\w*',\n",
       " '/r/analog/search\\\\?q=timestamp%3A1445400546..1444795746&restrict_sr=on&sort=new&syntax=cloudsearch&count=\\\\d*&after=\\\\w*',\n",
       " '/r/analog/search\\\\?after=\\\\w*&count=\\\\d*&q=timestamp%3A1445400546..1444795746&restrict_sr=on&sort=new&syntax=cloudsearch',\n",
       " '/r/analog/search\\\\?sort=new&q=timestamp%3A1444795746..1444190946&restrict_sr=on&syntax=cloudsearch&count=\\\\d*&after=\\\\w*',\n",
       " '/r/analog/search\\\\?q=timestamp%3A1444795746..1444190946&restrict_sr=on&sort=new&syntax=cloudsearch&count=\\\\d*&after=\\\\w*',\n",
       " '/r/analog/search\\\\?after=\\\\w*&count=\\\\d*&q=timestamp%3A1444795746..1444190946&restrict_sr=on&sort=new&syntax=cloudsearch',\n",
       " '/r/analog/search\\\\?sort=new&q=timestamp%3A1444190946..1443586146&restrict_sr=on&syntax=cloudsearch&count=\\\\d*&after=\\\\w*',\n",
       " '/r/analog/search\\\\?q=timestamp%3A1444190946..1443586146&restrict_sr=on&sort=new&syntax=cloudsearch&count=\\\\d*&after=\\\\w*',\n",
       " '/r/analog/search\\\\?after=\\\\w*&count=\\\\d*&q=timestamp%3A1444190946..1443586146&restrict_sr=on&sort=new&syntax=cloudsearch',\n",
       " '/r/analog/search\\\\?sort=new&q=timestamp%3A1443586146..1442981346&restrict_sr=on&syntax=cloudsearch&count=\\\\d*&after=\\\\w*',\n",
       " '/r/analog/search\\\\?q=timestamp%3A1443586146..1442981346&restrict_sr=on&sort=new&syntax=cloudsearch&count=\\\\d*&after=\\\\w*',\n",
       " '/r/analog/search\\\\?after=\\\\w*&count=\\\\d*&q=timestamp%3A1443586146..1442981346&restrict_sr=on&sort=new&syntax=cloudsearch',\n",
       " '/r/analog/search\\\\?sort=new&q=timestamp%3A1442981346..1442376546&restrict_sr=on&syntax=cloudsearch&count=\\\\d*&after=\\\\w*',\n",
       " '/r/analog/search\\\\?q=timestamp%3A1442981346..1442376546&restrict_sr=on&sort=new&syntax=cloudsearch&count=\\\\d*&after=\\\\w*',\n",
       " '/r/analog/search\\\\?after=\\\\w*&count=\\\\d*&q=timestamp%3A1442981346..1442376546&restrict_sr=on&sort=new&syntax=cloudsearch',\n",
       " '/r/analog/search\\\\?sort=new&q=timestamp%3A1442376546..1441771746&restrict_sr=on&syntax=cloudsearch&count=\\\\d*&after=\\\\w*',\n",
       " '/r/analog/search\\\\?q=timestamp%3A1442376546..1441771746&restrict_sr=on&sort=new&syntax=cloudsearch&count=\\\\d*&after=\\\\w*',\n",
       " '/r/analog/search\\\\?after=\\\\w*&count=\\\\d*&q=timestamp%3A1442376546..1441771746&restrict_sr=on&sort=new&syntax=cloudsearch',\n",
       " '/r/analog/search\\\\?sort=new&q=timestamp%3A1441771746..1441166946&restrict_sr=on&syntax=cloudsearch&count=\\\\d*&after=\\\\w*',\n",
       " '/r/analog/search\\\\?q=timestamp%3A1441771746..1441166946&restrict_sr=on&sort=new&syntax=cloudsearch&count=\\\\d*&after=\\\\w*',\n",
       " '/r/analog/search\\\\?after=\\\\w*&count=\\\\d*&q=timestamp%3A1441771746..1441166946&restrict_sr=on&sort=new&syntax=cloudsearch',\n",
       " '/r/analog/search\\\\?sort=new&q=timestamp%3A1441166946..1440562146&restrict_sr=on&syntax=cloudsearch&count=\\\\d*&after=\\\\w*',\n",
       " '/r/analog/search\\\\?q=timestamp%3A1441166946..1440562146&restrict_sr=on&sort=new&syntax=cloudsearch&count=\\\\d*&after=\\\\w*',\n",
       " '/r/analog/search\\\\?after=\\\\w*&count=\\\\d*&q=timestamp%3A1441166946..1440562146&restrict_sr=on&sort=new&syntax=cloudsearch',\n",
       " '/r/analog/search\\\\?sort=new&q=timestamp%3A1440562146..1439957346&restrict_sr=on&syntax=cloudsearch&count=\\\\d*&after=\\\\w*',\n",
       " '/r/analog/search\\\\?q=timestamp%3A1440562146..1439957346&restrict_sr=on&sort=new&syntax=cloudsearch&count=\\\\d*&after=\\\\w*',\n",
       " '/r/analog/search\\\\?after=\\\\w*&count=\\\\d*&q=timestamp%3A1440562146..1439957346&restrict_sr=on&sort=new&syntax=cloudsearch',\n",
       " '/r/analog/search\\\\?sort=new&q=timestamp%3A1439957346..1439352546&restrict_sr=on&syntax=cloudsearch&count=\\\\d*&after=\\\\w*',\n",
       " '/r/analog/search\\\\?q=timestamp%3A1439957346..1439352546&restrict_sr=on&sort=new&syntax=cloudsearch&count=\\\\d*&after=\\\\w*',\n",
       " '/r/analog/search\\\\?after=\\\\w*&count=\\\\d*&q=timestamp%3A1439957346..1439352546&restrict_sr=on&sort=new&syntax=cloudsearch',\n",
       " '/r/analog/search\\\\?sort=new&q=timestamp%3A1439352546..1438747746&restrict_sr=on&syntax=cloudsearch&count=\\\\d*&after=\\\\w*',\n",
       " '/r/analog/search\\\\?q=timestamp%3A1439352546..1438747746&restrict_sr=on&sort=new&syntax=cloudsearch&count=\\\\d*&after=\\\\w*',\n",
       " '/r/analog/search\\\\?after=\\\\w*&count=\\\\d*&q=timestamp%3A1439352546..1438747746&restrict_sr=on&sort=new&syntax=cloudsearch',\n",
       " '/r/analog/search\\\\?sort=new&q=timestamp%3A1438747746..1438142946&restrict_sr=on&syntax=cloudsearch&count=\\\\d*&after=\\\\w*',\n",
       " '/r/analog/search\\\\?q=timestamp%3A1438747746..1438142946&restrict_sr=on&sort=new&syntax=cloudsearch&count=\\\\d*&after=\\\\w*',\n",
       " '/r/analog/search\\\\?after=\\\\w*&count=\\\\d*&q=timestamp%3A1438747746..1438142946&restrict_sr=on&sort=new&syntax=cloudsearch',\n",
       " '/r/analog/search\\\\?sort=new&q=timestamp%3A1438142946..1437538146&restrict_sr=on&syntax=cloudsearch&count=\\\\d*&after=\\\\w*',\n",
       " '/r/analog/search\\\\?q=timestamp%3A1438142946..1437538146&restrict_sr=on&sort=new&syntax=cloudsearch&count=\\\\d*&after=\\\\w*',\n",
       " '/r/analog/search\\\\?after=\\\\w*&count=\\\\d*&q=timestamp%3A1438142946..1437538146&restrict_sr=on&sort=new&syntax=cloudsearch',\n",
       " '/r/analog/search\\\\?sort=new&q=timestamp%3A1437538146..1436933346&restrict_sr=on&syntax=cloudsearch&count=\\\\d*&after=\\\\w*',\n",
       " '/r/analog/search\\\\?q=timestamp%3A1437538146..1436933346&restrict_sr=on&sort=new&syntax=cloudsearch&count=\\\\d*&after=\\\\w*',\n",
       " '/r/analog/search\\\\?after=\\\\w*&count=\\\\d*&q=timestamp%3A1437538146..1436933346&restrict_sr=on&sort=new&syntax=cloudsearch']"
      ]
     },
     "execution_count": 7,
     "metadata": {},
     "output_type": "execute_result"
    }
   ],
   "source": [
    "start_url_gen()[1]"
   ]
  },
  {
   "cell_type": "code",
   "execution_count": null,
   "metadata": {
    "collapsed": true
   },
   "outputs": [],
   "source": [
    "\"\"\"\n",
    "sdsdfas\n",
    "\"\"\""
   ]
  }
 ],
 "metadata": {
  "kernelspec": {
   "display_name": "Python 2",
   "language": "python",
   "name": "python2"
  },
  "language_info": {
   "codemirror_mode": {
    "name": "ipython",
    "version": 2
   },
   "file_extension": ".py",
   "mimetype": "text/x-python",
   "name": "python",
   "nbconvert_exporter": "python",
   "pygments_lexer": "ipython2",
   "version": "2.7.11"
  }
 },
 "nbformat": 4,
 "nbformat_minor": 0
}
